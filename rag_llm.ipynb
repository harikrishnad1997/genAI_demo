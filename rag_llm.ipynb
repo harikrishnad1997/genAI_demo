{
 "cells": [
  {
   "cell_type": "markdown",
   "metadata": {},
   "source": [
    "# Installing libraries"
   ]
  },
  {
   "cell_type": "code",
   "execution_count": 1,
   "metadata": {},
   "outputs": [
    {
     "name": "stdout",
     "output_type": "stream",
     "text": [
      "Requirement already satisfied: langchain in /usr/local/python/3.12.1/lib/python3.12/site-packages (0.3.17)\n",
      "Requirement already satisfied: langchain-google-genai in /usr/local/python/3.12.1/lib/python3.12/site-packages (2.0.9)\n",
      "Requirement already satisfied: langchain_community in /usr/local/python/3.12.1/lib/python3.12/site-packages (0.3.16)\n",
      "Requirement already satisfied: pypdf in /usr/local/python/3.12.1/lib/python3.12/site-packages (5.2.0)\n",
      "Requirement already satisfied: faiss-cpu in /usr/local/python/3.12.1/lib/python3.12/site-packages (1.9.0.post1)\n",
      "Requirement already satisfied: PyYAML>=5.3 in /home/codespace/.local/lib/python3.12/site-packages (from langchain) (6.0.2)\n",
      "Requirement already satisfied: SQLAlchemy<3,>=1.4 in /usr/local/python/3.12.1/lib/python3.12/site-packages (from langchain) (2.0.37)\n",
      "Requirement already satisfied: aiohttp<4.0.0,>=3.8.3 in /usr/local/python/3.12.1/lib/python3.12/site-packages (from langchain) (3.11.11)\n",
      "Requirement already satisfied: langchain-core<0.4.0,>=0.3.33 in /usr/local/python/3.12.1/lib/python3.12/site-packages (from langchain) (0.3.33)\n",
      "Requirement already satisfied: langchain-text-splitters<0.4.0,>=0.3.3 in /usr/local/python/3.12.1/lib/python3.12/site-packages (from langchain) (0.3.5)\n",
      "Requirement already satisfied: langsmith<0.4,>=0.1.17 in /usr/local/python/3.12.1/lib/python3.12/site-packages (from langchain) (0.3.3)\n",
      "Requirement already satisfied: numpy<3,>=1.26.2 in /home/codespace/.local/lib/python3.12/site-packages (from langchain) (2.2.0)\n",
      "Requirement already satisfied: pydantic<3.0.0,>=2.7.4 in /usr/local/python/3.12.1/lib/python3.12/site-packages (from langchain) (2.10.6)\n",
      "Requirement already satisfied: requests<3,>=2 in /home/codespace/.local/lib/python3.12/site-packages (from langchain) (2.32.3)\n",
      "Requirement already satisfied: tenacity!=8.4.0,<10,>=8.1.0 in /home/codespace/.local/lib/python3.12/site-packages (from langchain) (9.0.0)\n",
      "Requirement already satisfied: filetype<2.0.0,>=1.2.0 in /usr/local/python/3.12.1/lib/python3.12/site-packages (from langchain-google-genai) (1.2.0)\n",
      "Requirement already satisfied: google-generativeai<0.9.0,>=0.8.0 in /usr/local/python/3.12.1/lib/python3.12/site-packages (from langchain-google-genai) (0.8.4)\n",
      "Requirement already satisfied: dataclasses-json<0.7,>=0.5.7 in /usr/local/python/3.12.1/lib/python3.12/site-packages (from langchain_community) (0.6.7)\n",
      "Requirement already satisfied: httpx-sse<0.5.0,>=0.4.0 in /usr/local/python/3.12.1/lib/python3.12/site-packages (from langchain_community) (0.4.0)\n",
      "Requirement already satisfied: pydantic-settings<3.0.0,>=2.4.0 in /usr/local/python/3.12.1/lib/python3.12/site-packages (from langchain_community) (2.7.1)\n",
      "Requirement already satisfied: packaging in /home/codespace/.local/lib/python3.12/site-packages (from faiss-cpu) (24.2)\n",
      "Requirement already satisfied: aiohappyeyeballs>=2.3.0 in /usr/local/python/3.12.1/lib/python3.12/site-packages (from aiohttp<4.0.0,>=3.8.3->langchain) (2.4.4)\n",
      "Requirement already satisfied: aiosignal>=1.1.2 in /usr/local/python/3.12.1/lib/python3.12/site-packages (from aiohttp<4.0.0,>=3.8.3->langchain) (1.3.2)\n",
      "Requirement already satisfied: attrs>=17.3.0 in /home/codespace/.local/lib/python3.12/site-packages (from aiohttp<4.0.0,>=3.8.3->langchain) (24.2.0)\n",
      "Requirement already satisfied: frozenlist>=1.1.1 in /usr/local/python/3.12.1/lib/python3.12/site-packages (from aiohttp<4.0.0,>=3.8.3->langchain) (1.5.0)\n",
      "Requirement already satisfied: multidict<7.0,>=4.5 in /usr/local/python/3.12.1/lib/python3.12/site-packages (from aiohttp<4.0.0,>=3.8.3->langchain) (6.1.0)\n",
      "Requirement already satisfied: propcache>=0.2.0 in /usr/local/python/3.12.1/lib/python3.12/site-packages (from aiohttp<4.0.0,>=3.8.3->langchain) (0.2.1)\n",
      "Requirement already satisfied: yarl<2.0,>=1.17.0 in /usr/local/python/3.12.1/lib/python3.12/site-packages (from aiohttp<4.0.0,>=3.8.3->langchain) (1.18.3)\n",
      "Requirement already satisfied: marshmallow<4.0.0,>=3.18.0 in /usr/local/python/3.12.1/lib/python3.12/site-packages (from dataclasses-json<0.7,>=0.5.7->langchain_community) (3.26.0)\n",
      "Requirement already satisfied: typing-inspect<1,>=0.4.0 in /usr/local/python/3.12.1/lib/python3.12/site-packages (from dataclasses-json<0.7,>=0.5.7->langchain_community) (0.9.0)\n",
      "Requirement already satisfied: google-ai-generativelanguage==0.6.15 in /usr/local/python/3.12.1/lib/python3.12/site-packages (from google-generativeai<0.9.0,>=0.8.0->langchain-google-genai) (0.6.15)\n",
      "Requirement already satisfied: google-api-core in /usr/local/python/3.12.1/lib/python3.12/site-packages (from google-generativeai<0.9.0,>=0.8.0->langchain-google-genai) (2.24.1)\n",
      "Requirement already satisfied: google-api-python-client in /usr/local/python/3.12.1/lib/python3.12/site-packages (from google-generativeai<0.9.0,>=0.8.0->langchain-google-genai) (2.160.0)\n",
      "Requirement already satisfied: google-auth>=2.15.0 in /usr/local/python/3.12.1/lib/python3.12/site-packages (from google-generativeai<0.9.0,>=0.8.0->langchain-google-genai) (2.38.0)\n",
      "Requirement already satisfied: protobuf in /usr/local/python/3.12.1/lib/python3.12/site-packages (from google-generativeai<0.9.0,>=0.8.0->langchain-google-genai) (5.29.3)\n",
      "Requirement already satisfied: tqdm in /usr/local/python/3.12.1/lib/python3.12/site-packages (from google-generativeai<0.9.0,>=0.8.0->langchain-google-genai) (4.67.1)\n",
      "Requirement already satisfied: typing-extensions in /home/codespace/.local/lib/python3.12/site-packages (from google-generativeai<0.9.0,>=0.8.0->langchain-google-genai) (4.12.2)\n",
      "Requirement already satisfied: proto-plus<2.0.0dev,>=1.22.3 in /usr/local/python/3.12.1/lib/python3.12/site-packages (from google-ai-generativelanguage==0.6.15->google-generativeai<0.9.0,>=0.8.0->langchain-google-genai) (1.26.0)\n",
      "Requirement already satisfied: jsonpatch<2.0,>=1.33 in /usr/local/python/3.12.1/lib/python3.12/site-packages (from langchain-core<0.4.0,>=0.3.33->langchain) (1.33)\n",
      "Requirement already satisfied: httpx<1,>=0.23.0 in /home/codespace/.local/lib/python3.12/site-packages (from langsmith<0.4,>=0.1.17->langchain) (0.28.1)\n",
      "Requirement already satisfied: orjson<4.0.0,>=3.9.14 in /usr/local/python/3.12.1/lib/python3.12/site-packages (from langsmith<0.4,>=0.1.17->langchain) (3.10.15)\n",
      "Requirement already satisfied: requests-toolbelt<2.0.0,>=1.0.0 in /usr/local/python/3.12.1/lib/python3.12/site-packages (from langsmith<0.4,>=0.1.17->langchain) (1.0.0)\n",
      "Requirement already satisfied: zstandard<0.24.0,>=0.23.0 in /usr/local/python/3.12.1/lib/python3.12/site-packages (from langsmith<0.4,>=0.1.17->langchain) (0.23.0)\n",
      "Requirement already satisfied: annotated-types>=0.6.0 in /usr/local/python/3.12.1/lib/python3.12/site-packages (from pydantic<3.0.0,>=2.7.4->langchain) (0.7.0)\n",
      "Requirement already satisfied: pydantic-core==2.27.2 in /usr/local/python/3.12.1/lib/python3.12/site-packages (from pydantic<3.0.0,>=2.7.4->langchain) (2.27.2)\n",
      "Requirement already satisfied: python-dotenv>=0.21.0 in /usr/local/python/3.12.1/lib/python3.12/site-packages (from pydantic-settings<3.0.0,>=2.4.0->langchain_community) (1.0.1)\n",
      "Requirement already satisfied: charset-normalizer<4,>=2 in /home/codespace/.local/lib/python3.12/site-packages (from requests<3,>=2->langchain) (3.4.0)\n",
      "Requirement already satisfied: idna<4,>=2.5 in /home/codespace/.local/lib/python3.12/site-packages (from requests<3,>=2->langchain) (3.10)\n",
      "Requirement already satisfied: urllib3<3,>=1.21.1 in /home/codespace/.local/lib/python3.12/site-packages (from requests<3,>=2->langchain) (2.2.3)\n",
      "Requirement already satisfied: certifi>=2017.4.17 in /home/codespace/.local/lib/python3.12/site-packages (from requests<3,>=2->langchain) (2024.8.30)\n",
      "Requirement already satisfied: greenlet!=0.4.17 in /usr/local/python/3.12.1/lib/python3.12/site-packages (from SQLAlchemy<3,>=1.4->langchain) (3.1.1)\n",
      "Requirement already satisfied: googleapis-common-protos<2.0.dev0,>=1.56.2 in /usr/local/python/3.12.1/lib/python3.12/site-packages (from google-api-core->google-generativeai<0.9.0,>=0.8.0->langchain-google-genai) (1.66.0)\n",
      "Requirement already satisfied: cachetools<6.0,>=2.0.0 in /usr/local/python/3.12.1/lib/python3.12/site-packages (from google-auth>=2.15.0->google-generativeai<0.9.0,>=0.8.0->langchain-google-genai) (5.5.1)\n",
      "Requirement already satisfied: pyasn1-modules>=0.2.1 in /usr/local/python/3.12.1/lib/python3.12/site-packages (from google-auth>=2.15.0->google-generativeai<0.9.0,>=0.8.0->langchain-google-genai) (0.4.1)\n",
      "Requirement already satisfied: rsa<5,>=3.1.4 in /usr/local/python/3.12.1/lib/python3.12/site-packages (from google-auth>=2.15.0->google-generativeai<0.9.0,>=0.8.0->langchain-google-genai) (4.9)\n",
      "Requirement already satisfied: anyio in /home/codespace/.local/lib/python3.12/site-packages (from httpx<1,>=0.23.0->langsmith<0.4,>=0.1.17->langchain) (4.7.0)\n",
      "Requirement already satisfied: httpcore==1.* in /home/codespace/.local/lib/python3.12/site-packages (from httpx<1,>=0.23.0->langsmith<0.4,>=0.1.17->langchain) (1.0.7)\n",
      "Requirement already satisfied: h11<0.15,>=0.13 in /home/codespace/.local/lib/python3.12/site-packages (from httpcore==1.*->httpx<1,>=0.23.0->langsmith<0.4,>=0.1.17->langchain) (0.14.0)\n",
      "Requirement already satisfied: jsonpointer>=1.9 in /home/codespace/.local/lib/python3.12/site-packages (from jsonpatch<2.0,>=1.33->langchain-core<0.4.0,>=0.3.33->langchain) (3.0.0)\n",
      "Requirement already satisfied: mypy-extensions>=0.3.0 in /usr/local/python/3.12.1/lib/python3.12/site-packages (from typing-inspect<1,>=0.4.0->dataclasses-json<0.7,>=0.5.7->langchain_community) (1.0.0)\n",
      "Requirement already satisfied: httplib2<1.dev0,>=0.19.0 in /usr/local/python/3.12.1/lib/python3.12/site-packages (from google-api-python-client->google-generativeai<0.9.0,>=0.8.0->langchain-google-genai) (0.22.0)\n",
      "Requirement already satisfied: google-auth-httplib2<1.0.0,>=0.2.0 in /usr/local/python/3.12.1/lib/python3.12/site-packages (from google-api-python-client->google-generativeai<0.9.0,>=0.8.0->langchain-google-genai) (0.2.0)\n",
      "Requirement already satisfied: uritemplate<5,>=3.0.1 in /usr/local/python/3.12.1/lib/python3.12/site-packages (from google-api-python-client->google-generativeai<0.9.0,>=0.8.0->langchain-google-genai) (4.1.1)\n",
      "Requirement already satisfied: grpcio<2.0dev,>=1.33.2 in /usr/local/python/3.12.1/lib/python3.12/site-packages (from google-api-core[grpc]!=2.0.*,!=2.1.*,!=2.10.*,!=2.2.*,!=2.3.*,!=2.4.*,!=2.5.*,!=2.6.*,!=2.7.*,!=2.8.*,!=2.9.*,<3.0.0dev,>=1.34.1->google-ai-generativelanguage==0.6.15->google-generativeai<0.9.0,>=0.8.0->langchain-google-genai) (1.70.0)\n",
      "Requirement already satisfied: grpcio-status<2.0.dev0,>=1.33.2 in /usr/local/python/3.12.1/lib/python3.12/site-packages (from google-api-core[grpc]!=2.0.*,!=2.1.*,!=2.10.*,!=2.2.*,!=2.3.*,!=2.4.*,!=2.5.*,!=2.6.*,!=2.7.*,!=2.8.*,!=2.9.*,<3.0.0dev,>=1.34.1->google-ai-generativelanguage==0.6.15->google-generativeai<0.9.0,>=0.8.0->langchain-google-genai) (1.70.0)\n",
      "Requirement already satisfied: pyparsing!=3.0.0,!=3.0.1,!=3.0.2,!=3.0.3,<4,>=2.4.2 in /home/codespace/.local/lib/python3.12/site-packages (from httplib2<1.dev0,>=0.19.0->google-api-python-client->google-generativeai<0.9.0,>=0.8.0->langchain-google-genai) (3.2.0)\n",
      "Requirement already satisfied: pyasn1<0.7.0,>=0.4.6 in /usr/local/python/3.12.1/lib/python3.12/site-packages (from pyasn1-modules>=0.2.1->google-auth>=2.15.0->google-generativeai<0.9.0,>=0.8.0->langchain-google-genai) (0.6.1)\n",
      "Requirement already satisfied: sniffio>=1.1 in /home/codespace/.local/lib/python3.12/site-packages (from anyio->httpx<1,>=0.23.0->langsmith<0.4,>=0.1.17->langchain) (1.3.1)\n",
      "\n",
      "\u001b[1m[\u001b[0m\u001b[34;49mnotice\u001b[0m\u001b[1;39;49m]\u001b[0m\u001b[39;49m A new release of pip is available: \u001b[0m\u001b[31;49m24.3.1\u001b[0m\u001b[39;49m -> \u001b[0m\u001b[32;49m25.0\u001b[0m\n",
      "\u001b[1m[\u001b[0m\u001b[34;49mnotice\u001b[0m\u001b[1;39;49m]\u001b[0m\u001b[39;49m To update, run: \u001b[0m\u001b[32;49mpython3 -m pip install --upgrade pip\u001b[0m\n"
     ]
    }
   ],
   "source": [
    "!pip install langchain langchain-google-genai langchain_community pypdf faiss-cpu"
   ]
  },
  {
   "cell_type": "markdown",
   "metadata": {},
   "source": [
    "Adding API Keys"
   ]
  },
  {
   "cell_type": "code",
   "execution_count": 2,
   "metadata": {},
   "outputs": [],
   "source": [
    "import os\n",
    "import getpass\n",
    "google_api_path = 'google_api_path.txt'\n",
    "if \"GOOGLE_API_KEY\" not in os.environ:\n",
    "    try:\n",
    "        with open(google_api_path, \"r\") as file:\n",
    "            api_key = file.read().strip()\n",
    "            os.environ['GOOGLE_API_KEY'] = api_key\n",
    "    except:\n",
    "        os.environ[\"GOOGLE_API_KEY\"] = getpass.getpass(\"Enter your Google AI API key: \")"
   ]
  },
  {
   "cell_type": "markdown",
   "metadata": {},
   "source": [
    "# Importing libraries"
   ]
  },
  {
   "cell_type": "code",
   "execution_count": 3,
   "metadata": {},
   "outputs": [
    {
     "name": "stderr",
     "output_type": "stream",
     "text": [
      "/usr/local/python/3.12.1/lib/python3.12/site-packages/tqdm/auto.py:21: TqdmWarning: IProgress not found. Please update jupyter and ipywidgets. See https://ipywidgets.readthedocs.io/en/stable/user_install.html\n",
      "  from .autonotebook import tqdm as notebook_tqdm\n"
     ]
    }
   ],
   "source": [
    "import os\n",
    "from langchain_google_genai import GoogleGenerativeAIEmbeddings\n",
    "from langchain_google_genai import ChatGoogleGenerativeAI\n",
    "from langchain.chains import ConversationalRetrievalChain\n",
    "from langchain_community.document_loaders import PyPDFLoader\n",
    "from langchain.vectorstores import FAISS\n",
    "from langchain.prompts import load_prompt\n",
    "# from langchain_text_splitters.base import TextSplitter\n",
    "# from pymongo import MongoClient\n",
    "# from pymongo.mongo_client import MongoClient\n",
    "# from pymongo.server_api import ServerApi\n",
    "import json\n",
    "import time\n",
    "import datetime\n",
    "import pypdf"
   ]
  },
  {
   "cell_type": "markdown",
   "metadata": {},
   "source": [
    "# Operations on data"
   ]
  },
  {
   "cell_type": "code",
   "execution_count": 4,
   "metadata": {},
   "outputs": [],
   "source": [
    "from langchain.text_splitter import CharacterTextSplitter\n",
    "text_splitter = CharacterTextSplitter(\n",
    "    separator=\"\\n\",\n",
    "    chunk_size=400,\n",
    "    chunk_overlap=40\n",
    ")"
   ]
  },
  {
   "cell_type": "code",
   "execution_count": 5,
   "metadata": {},
   "outputs": [
    {
     "name": "stdout",
     "output_type": "stream",
     "text": [
      "  % Total    % Received % Xferd  Average Speed   Time    Time     Time  Current\n",
      "                                 Dload  Upload   Total   Spent    Left  Speed\n",
      "100  299k  100  299k    0     0  5351k      0 --:--:-- --:--:-- --:--:-- 5351k\n"
     ]
    }
   ],
   "source": [
    "!curl -o servicenow-docs.pdf https://servicenow-docs.readthedocs.io/_/downloads/en/latest/pdf/"
   ]
  },
  {
   "cell_type": "code",
   "execution_count": 6,
   "metadata": {},
   "outputs": [],
   "source": [
    "pdf_source = 'servicenow-docs.pdf'\n",
    "pdf_loader = PyPDFLoader(pdf_source)\n",
    "pdf_data = pdf_loader.load_and_split(text_splitter=text_splitter)"
   ]
  },
  {
   "cell_type": "code",
   "execution_count": 7,
   "metadata": {},
   "outputs": [],
   "source": [
    "embeddings = GoogleGenerativeAIEmbeddings(model=\"models/embedding-001\")\n",
    "vectors = FAISS.from_documents(pdf_data, embeddings)\n",
    "vectors.save_local(\"faiss_index\")"
   ]
  },
  {
   "cell_type": "code",
   "execution_count": 16,
   "metadata": {},
   "outputs": [
    {
     "data": {
      "text/plain": [
       "[Document(metadata={'source': 'servicenow-docs.pdf', 'page': 0, 'page_label': '1'}, page_content='ServiceNow Documentation\\nDocumentation\\nRelease 0.01\\nMark Carter\\nNov 13, 2017'),\n",
       " Document(metadata={'source': 'servicenow-docs.pdf', 'page': 2, 'page_label': 'i'}, page_content='Contents\\n1 Copying Data 3\\n1.1 Worknotes . . . . . . . . . . . . . . . . . . . . . . . . . . . . . . . . . . . . . . . . . . . . . . . . 3\\n1.2 Currency Fields . . . . . . . . . . . . . . . . . . . . . . . . . . . . . . . . . . . . . . . . . . . . . 3\\n2 CORS Error 5\\n2.1 How to get around CORS Exception . . . . . . . . . . . . . . . . . . . . . . . . . . . . . . . . . . . 5\\n3 Date Time Servicenow 7'),\n",
       " Document(metadata={'source': 'servicenow-docs.pdf', 'page': 2, 'page_label': 'i'}, page_content='3 Date Time Servicenow 7\\n3.1 Update Review Date . . . . . . . . . . . . . . . . . . . . . . . . . . . . . . . . . . . . . . . . . . . 7\\n3.2 Comparing Due Date with Start Date . . . . . . . . . . . . . . . . . . . . . . . . . . . . . . . . . . 7\\n3.3 Comparing Months . . . . . . . . . . . . . . . . . . . . . . . . . . . . . . . . . . . . . . . . . . . . 8'),\n",
       " Document(metadata={'source': 'servicenow-docs.pdf', 'page': 2, 'page_label': 'i'}, page_content='3.4 Comparing Dates when days doesn’t matter (untested) . . . . . . . . . . . . . . . . . . . . . . . . . 8\\n4 Design Resources 9\\n4.1 Icon Library . . . . . . . . . . . . . . . . . . . . . . . . . . . . . . . . . . . . . . . . . . . . . . . 9\\n4.2 Instance Style Guide . . . . . . . . . . . . . . . . . . . . . . . . . . . . . . . . . . . . . . . . . . . 9\\n5 Emails 11'),\n",
       " Document(metadata={'source': 'servicenow-docs.pdf', 'page': 2, 'page_label': 'i'}, page_content='5 Emails 11\\n5.1 Parsing out Hidden Watermarks . . . . . . . . . . . . . . . . . . . . . . . . . . . . . . . . . . . . . 11\\n6 GlideAjax 13\\n6.1 Returning multiple values . . . . . . . . . . . . . . . . . . . . . . . . . . . . . . . . . . . . . . . . 13\\n7 Glide Conditionals 15\\n7.1 Matching records using conditions . . . . . . . . . . . . . . . . . . . . . . . . . . . . . . . . . . . . 15'),\n",
       " Document(metadata={'source': 'servicenow-docs.pdf', 'page': 2, 'page_label': 'i'}, page_content='8 Hiding non-readable Rows in List View 17\\n8.1 Separating Readable Projects By Department . . . . . . . . . . . . . . . . . . . . . . . . . . . . . . 17\\n9 Metrics 21\\n9.1 Metric from Assignment Group to Close . . . . . . . . . . . . . . . . . . . . . . . . . . . . . . . . 21\\n10 Modules 23\\n10.1 Open new window from module . . . . . . . . . . . . . . . . . . . . . . . . . . . . . . . . . . . . . 23'),\n",
       " Document(metadata={'source': 'servicenow-docs.pdf', 'page': 2, 'page_label': 'i'}, page_content='11 OAuth 25\\n11.1 Manual Oauth . . . . . . . . . . . . . . . . . . . . . . . . . . . . . . . . . . . . . . . . . . . . . . 25\\ni'),\n",
       " Document(metadata={'source': 'servicenow-docs.pdf', 'page': 3, 'page_label': 'ii'}, page_content='12 Reference Qualiﬁers 27\\n12.1 Creating a Dynamic Qualiﬁer . . . . . . . . . . . . . . . . . . . . . . . . . . . . . . . . . . . . . . 27\\n12.2 Qualiﬁer that uses multiple queries . . . . . . . . . . . . . . . . . . . . . . . . . . . . . . . . . . . 28\\n13 RegEx 29\\n13.1 Replace with callback . . . . . . . . . . . . . . . . . . . . . . . . . . . . . . . . . . . . . . . . . . 29'),\n",
       " Document(metadata={'source': 'servicenow-docs.pdf', 'page': 3, 'page_label': 'ii'}, page_content='13.2 Example 2: replace <<EMPLOYEE>> . . . . . . . . . . . . . . . . . . . . . . . . . . . . . . . . . 30\\n14 REST Message v2 31\\n14.1 External Cart Orders . . . . . . . . . . . . . . . . . . . . . . . . . . . . . . . . . . . . . . . . . . . 31\\n15 Sending Attachments via REST 33\\n15.1 Overview . . . . . . . . . . . . . . . . . . . . . . . . . . . . . . . . . . . . . . . . . . . . . . . . . 33'),\n",
       " Document(metadata={'source': 'servicenow-docs.pdf', 'page': 3, 'page_label': 'ii'}, page_content='15.2 Staging Table . . . . . . . . . . . . . . . . . . . . . . . . . . . . . . . . . . . . . . . . . . . . . . . 33\\n15.3 Create a Transform Map . . . . . . . . . . . . . . . . . . . . . . . . . . . . . . . . . . . . . . . . . 33\\n15.4 Sending the REST Message . . . . . . . . . . . . . . . . . . . . . . . . . . . . . . . . . . . . . . . 34'),\n",
       " Document(metadata={'source': 'servicenow-docs.pdf', 'page': 3, 'page_label': 'ii'}, page_content='15.5 Example Business Rule Script for Attachment . . . . . . . . . . . . . . . . . . . . . . . . . . . . . 34\\n16 Service Portal 37\\n16.1 Overview . . . . . . . . . . . . . . . . . . . . . . . . . . . . . . . . . . . . . . . . . . . . . . . . . 37\\n16.2 Understanding How Server Script Works . . . . . . . . . . . . . . . . . . . . . . . . . . . . . . . . 37\\n17 Sphinx Shortcuts 41'),\n",
       " Document(metadata={'source': 'servicenow-docs.pdf', 'page': 3, 'page_label': 'ii'}, page_content='17 Sphinx Shortcuts 41\\n17.1 Sphinx codes . . . . . . . . . . . . . . . . . . . . . . . . . . . . . . . . . . . . . . . . . . . . . . . 41\\n18 Syntax Editor 43\\n18.1 Location . . . . . . . . . . . . . . . . . . . . . . . . . . . . . . . . . . . . . . . . . . . . . . . . . 43\\n19 Time Card Modiﬁcations 45'),\n",
       " Document(metadata={'source': 'servicenow-docs.pdf', 'page': 3, 'page_label': 'ii'}, page_content='19 Time Card Modiﬁcations 45\\n19.1 Generate Time Cards based on Resource Allocations . . . . . . . . . . . . . . . . . . . . . . . . . . 45\\n20 UI Pages 49\\n20.1 Triggering on change for select box . . . . . . . . . . . . . . . . . . . . . . . . . . . . . . . . . . . 49\\n20.2 Using a passed parameter in HTML ﬁeld . . . . . . . . . . . . . . . . . . . . . . . . . . . . . . . . 50'),\n",
       " Document(metadata={'source': 'servicenow-docs.pdf', 'page': 3, 'page_label': 'ii'}, page_content='20.3 Using a passed parameter in the Client ﬁeld . . . . . . . . . . . . . . . . . . . . . . . . . . . . . . . 50\\n21 Working With Variable Sets 51\\n21.1 Variable Iteration . . . . . . . . . . . . . . . . . . . . . . . . . . . . . . . . . . . . . . . . . . . . . 51\\n22 Workﬂows 53\\n22.1 Canceling and Reopening Workﬂow . . . . . . . . . . . . . . . . . . . . . . . . . . . . . . . . . . . 53'),\n",
       " Document(metadata={'source': 'servicenow-docs.pdf', 'page': 3, 'page_label': 'ii'}, page_content='22.2 Sending in workﬂow values with StartFlow . . . . . . . . . . . . . . . . . . . . . . . . . . . . . . . 53\\n23 Indices and tables 55\\nii'),\n",
       " Document(metadata={'source': 'servicenow-docs.pdf', 'page': 4, 'page_label': '1'}, page_content='ServiceNow Documentation Documentation, Release 0.01\\nContents:\\nContents 1'),\n",
       " Document(metadata={'source': 'servicenow-docs.pdf', 'page': 5, 'page_label': '2'}, page_content='ServiceNow Documentation Documentation, Release 0.01\\n2 Contents'),\n",
       " Document(metadata={'source': 'servicenow-docs.pdf', 'page': 6, 'page_label': '3'}, page_content='CHAPTER 1\\nCopying Data\\n1.1 Worknotes\\nCopying the full set of work notes to another area\\n//Gets all worknotes associated with current\\nvar notes = current.work_notes.getJournalEntry(-1);\\nvar newNotes = \"Copied notes ::\\\\n\" + notes;\\n1.2 Currency Fields\\nCopying old funds in current to new funds in another ﬁeld\\nbCase.new_funds = bCase.new_funds.getReferenceCurrencyCode() + \\';\\' + current.old_'),\n",
       " Document(metadata={'source': 'servicenow-docs.pdf', 'page': 6, 'page_label': '3'}, page_content='˓→funds.getReferenceValue();\\n3'),\n",
       " Document(metadata={'source': 'servicenow-docs.pdf', 'page': 7, 'page_label': '4'}, page_content='ServiceNow Documentation Documentation, Release 0.01\\n4 Chapter 1. Copying Data'),\n",
       " Document(metadata={'source': 'servicenow-docs.pdf', 'page': 8, 'page_label': '5'}, page_content='CHAPTER 2\\nCORS Error\\n2.1 How to get around CORS Exception\\nchrome.exe --user-data-dir=\"C:/Chrome dev session\" --disable-web-security\\nDepending on location of Chrome, ﬁle can be run with single line below\\n\"C:\\\\Program Files (x86)\\\\Google\\\\Chrome\\\\Application\\\\chrome.exe\" --user-data-dir=\"C:/\\n˓→Chrome dev session\" --disable-web-security\\nWarning: Goes without saying !! be careful of security\\n5'),\n",
       " Document(metadata={'source': 'servicenow-docs.pdf', 'page': 9, 'page_label': '6'}, page_content='ServiceNow Documentation Documentation, Release 0.01\\n6 Chapter 2. CORS Error'),\n",
       " Document(metadata={'source': 'servicenow-docs.pdf', 'page': 10, 'page_label': '7'}, page_content='CHAPTER 3\\nDate Time Servicenow\\n3.1 Update Review Date\\n(function executeRule(current, previous /*null when async*/) {\\nvar gdt = new GlideDateTime(current.ends);\\ngdt.addDays(90);\\ncurrent.u_review_date_custom = gdt;\\n})(current, previous);\\nWarning: .addDays() will addDays to the time, but does not return a glideDateTime\\ncurrent.ends is a Date (not DateTime) ﬁeld\\n3.2 Comparing Due Date with Start Date'),\n",
       " Document(metadata={'source': 'servicenow-docs.pdf', 'page': 10, 'page_label': '7'}, page_content='3.2 Comparing Due Date with Start Date\\nOn Change Client Script for Due Date\\nfunction onChange(control, oldValue, newValue, isLoading, isTemplate) {\\nif (isLoading || g_form.getValue(\"expected_start\") == \"\") {\\nreturn;\\n}\\nvar start_date = g_form.getValue(\"expected_start\");\\n//Calls serverside script to check if start date is earlier than due date\\nvar ajax = new GlideAjax(\\'TransferOrderDateTimeAjax\\');'),\n",
       " Document(metadata={'source': 'servicenow-docs.pdf', 'page': 10, 'page_label': '7'}, page_content=\"ajax.addParam('sysparm_name','compareDatesAjax');\\najax.addParam('sysparm_startDate', start_date);\\n7\"),\n",
       " Document(metadata={'source': 'servicenow-docs.pdf', 'page': 11, 'page_label': '8'}, page_content='ServiceNow Documentation Documentation, Release 0.01\\najax.addParam(\\'sysparm_endDate\\', newValue);\\najax.getXML(warnIfFalse);\\n//Callback will display error if start date is earlier than due date\\nfunction warnIfFalse(response){\\nvar answer = response.responseXML.documentElement.getAttribute(\"answer\");\\nif (answer == \"false\") {\\ng_form.setValue(\"due_date\", \"\");'),\n",
       " Document(metadata={'source': 'servicenow-docs.pdf', 'page': 11, 'page_label': '8'}, page_content='g_form.setValue(\"due_date\", \"\");\\ng_form.showErrorBox(\"due_date\", \"Due Date must be after Start Date\");\\n}\\n}\\n}\\n3.3 Comparing Months\\nThis code is used to ﬁnd the difference between two dateTime in months\\nvar start = profileGR.getValue(\"employment_start_date\");\\nvar nowDate = new GlideDateTime().toString();\\nvar year1 = start.split(\"-\")[0];\\nvar month1 = start.split(\"-\")[1];'),\n",
       " Document(metadata={'source': 'servicenow-docs.pdf', 'page': 11, 'page_label': '8'}, page_content='var month1 = start.split(\"-\")[1];\\nvar year2 = nowDate.split(\"-\")[0];\\nvar month2 = nowDate.split(\"-\")[1];\\nif (year1 == year2) {\\nreturn month2-month1;\\n} else {\\nvar yearDiff = year2 - year1;\\nvar monthDiff = month2 - month1;\\nreturn (yearDiff * 12) + monthDiff;\\n}\\n3.4 Comparing Dates when days doesn’t matter (untested)\\nUses a milisecond timestamp, works for either Date or Date/Time'),\n",
       " Document(metadata={'source': 'servicenow-docs.pdf', 'page': 11, 'page_label': '8'}, page_content='newDate(g_form.getValue(\"expected_start\")).getTime() > newDate(g_form.getValue(\"due_\\n˓→date\")).getTime()\\n8 Chapter 3. Date Time Servicenow'),\n",
       " Document(metadata={'source': 'servicenow-docs.pdf', 'page': 12, 'page_label': '9'}, page_content='CHAPTER 4\\nDesign Resources\\n4.1 Icon Library\\nhttp://styleguide.servicenow.com/#/style/icon-library\\n4.2 Instance Style Guide\\nhttps://<instancename>/service-now.com/styles/heisenberg/styleguide/docs/index.html\\n9'),\n",
       " Document(metadata={'source': 'servicenow-docs.pdf', 'page': 13, 'page_label': '10'}, page_content='ServiceNow Documentation Documentation, Release 0.01\\n10 Chapter 4. Design Resources'),\n",
       " Document(metadata={'source': 'servicenow-docs.pdf', 'page': 14, 'page_label': '11'}, page_content='CHAPTER 5\\nEmails\\n5.1 Parsing out Hidden Watermarks\\n5.1.1 Business Rule on sys_email table\\n(function executeRule(current, previous /*null when async*/) {\\n//RegEx to find remove Re: in subject and anything after In-Reply-To:\\ncurrent.subject = String(current.subject).replace(/Re:+/i, \"\");\\ncurrent.headers = String(current.headers).replace(/In-Reply-To:<[^>]*>/ig,\\n˓→ \"\");\\n})(current, previous);'),\n",
       " Document(metadata={'source': 'servicenow-docs.pdf', 'page': 14, 'page_label': '11'}, page_content='˓→ \"\");\\n})(current, previous);\\n5.1.2 Summary\\nWe had a client where an email would continually be marked as a reply with a watermark, even after the watermark\\nhad been removed. We found in this case, we needed to remove the “RE” in the subject and the “In-Reply-To” in the\\nemail header\\n11'),\n",
       " Document(metadata={'source': 'servicenow-docs.pdf', 'page': 15, 'page_label': '12'}, page_content='ServiceNow Documentation Documentation, Release 0.01\\n12 Chapter 5. Emails'),\n",
       " Document(metadata={'source': 'servicenow-docs.pdf', 'page': 16, 'page_label': '13'}, page_content='CHAPTER 6\\nGlideAjax\\n6.1 Returning multiple values\\nYou can return more than one value easiest if you return it as a JSON string.\\nvar GetUserRecord = Class.create();\\nGetUserRecord.prototype = Object.extendsObject(AbstractAjaxProcessor, {\\ngetForCorrectiveItem: function () {\\nvar userID = this.getParameter(\"sysparm_user_id\");\\nvar userGR = new GlideRecord(\"sys_user\");\\nuserGR.addQuery(\"sys_id\", userID);'),\n",
       " Document(metadata={'source': 'servicenow-docs.pdf', 'page': 16, 'page_label': '13'}, page_content='userGR.addQuery(\"sys_id\", userID);\\nuserGR.query();\\nvar userProps = {};\\nif (userGR.next()) {\\nuserProps.name = userGR.name.toString();\\nuserProps.manager = userGR.manager.toString();\\nuserProps.department = userGR.department.toString();\\nuserProps.location = userGR.location.getDisplayValue();\\n}\\nvar json = new JSON();\\nvar data = json.encode(userProps);\\nreturn data;\\n},\\ntype: \\'GetUserRecord\\'\\n});\\n13'),\n",
       " Document(metadata={'source': 'servicenow-docs.pdf', 'page': 17, 'page_label': '14'}, page_content='ServiceNow Documentation Documentation, Release 0.01\\n14 Chapter 6. GlideAjax'),\n",
       " Document(metadata={'source': 'servicenow-docs.pdf', 'page': 18, 'page_label': '15'}, page_content='CHAPTER 7\\nGlide Conditionals\\n7.1 Matching records using conditions\\nThe business rule below runs when a record is inserted into the table. It orders the approval_conditions record and\\nchecks to see if the current inserted record matches the condition set in the approval_condition record.\\n(function executeRule(current, previous /*null when async*/) {'),\n",
       " Document(metadata={'source': 'servicenow-docs.pdf', 'page': 18, 'page_label': '15'}, page_content='var approvalConditionsGR = new GlideRecord(\"approval_conditions_table\");\\napprovalConditionsGR.orderBy(\\'order\\');\\napprovalConditionsGR.query();\\nwhile (approvalConditionsGR.next()) {\\nif (GlideFilter.checkRecord(current, approvalConditionsGR.approval_condition)\\n˓→ == true) {\\nvar approver = approvalConditionsGR.getValue(\"approver\");\\ncurrent.approver.setValue(approver);\\nreturn;\\n}\\n}'),\n",
       " Document(metadata={'source': 'servicenow-docs.pdf', 'page': 18, 'page_label': '15'}, page_content='return;\\n}\\n}\\n})(current, previous);\\n15'),\n",
       " Document(metadata={'source': 'servicenow-docs.pdf', 'page': 19, 'page_label': '16'}, page_content='ServiceNow Documentation Documentation, Release 0.01\\n16 Chapter 7. Glide Conditionals'),\n",
       " Document(metadata={'source': 'servicenow-docs.pdf', 'page': 20, 'page_label': '17'}, page_content='CHAPTER 8\\nHiding non-readable Rows in List View\\nRow Level Security and On Query Business Rules\\n8.1 Separating Readable Projects By Department\\nIf you ever try placing security by record (or by row), your users may start seeing lists views with a count of Rows\\nremoved by Securiy contraints. Even worse they may think there are no more records, when records can easily be on'),\n",
       " Document(metadata={'source': 'servicenow-docs.pdf', 'page': 20, 'page_label': '17'}, page_content='the ﬁrst and last page with any number of removed rows in between.\\n17'),\n",
       " Document(metadata={'source': 'servicenow-docs.pdf', 'page': 21, 'page_label': '18'}, page_content='ServiceNow Documentation Documentation, Release 0.01\\nHiding_non-readable_Rows/img/Constraints.JPG\\n8.1.1 Creating a Before Query Business Rule\\nThe query created in the Business Rule can be thought of as a ﬁlter. So let’s say one requirement is to allow anyone\\nfrom the InfoSec Department to see any Contract record. We would start the Business Rule, by wrapping the ﬁlter\\nwith an if statement.'),\n",
       " Document(metadata={'source': 'servicenow-docs.pdf', 'page': 21, 'page_label': '18'}, page_content=\"with an if statement.\\nif (gs.hasRole('admin') || userIsInInfoSec()) {\\n// Add filter query here\\n}\\nfunction userIsInInfoSec() {\\n//Normal Glide Record query to see if user's Dept is InfoSec\\n}\\n18 Chapter 8. Hiding non-readable Rows in List View\"),\n",
       " Document(metadata={'source': 'servicenow-docs.pdf', 'page': 22, 'page_label': '19'}, page_content='ServiceNow Documentation Documentation, Release 0.01\\nNext, we need to apply the query. Let’s say there’s a department ﬁeld on each contract and if a user is in the same\\ndepartment as the one listed in contracts then they should be able to view it.\\nif (gs.hasRole(\\'admin\\') || userIsInInfoSec()) {\\nvar uID = gs.getUserID();\\nvar uGR = new GlideRecord(\"sys_user\");\\nuGR.get(uID);'),\n",
       " Document(metadata={'source': 'servicenow-docs.pdf', 'page': 22, 'page_label': '19'}, page_content=\"uGR.get(uID);\\ncurrent.addQuery('department', uGR.department);\\n}\\nWhat the query is doing here is returning only records that match department with the current user’s department.\\nThese will be the only records that will show in list view and will remove the security constraints, as long as they have\"),\n",
       " Document(metadata={'source': 'servicenow-docs.pdf', 'page': 22, 'page_label': '19'}, page_content='security rights. Below, we are going to add another query where all contracts in the “Guest” department can be viewed\\nas well.\\nif (gs.hasRole(\\'admin\\') || userIsInInfoSec()) {\\nvar uID = gs.getUserID();\\nvar uGR = new GlideRecord(\"sys_user\");\\nuGR.get(uID);\\nvar q = current.addQuery(\\'department\\', uGR.department);\\nq.addOrCondition(\\'department\\', \\'Guest\\');\\n}'),\n",
       " Document(metadata={'source': 'servicenow-docs.pdf', 'page': 22, 'page_label': '19'}, page_content='}\\n8.1. Separating Readable Projects By Department 19'),\n",
       " Document(metadata={'source': 'servicenow-docs.pdf', 'page': 23, 'page_label': '20'}, page_content='ServiceNow Documentation Documentation, Release 0.01\\n20 Chapter 8. Hiding non-readable Rows in List View'),\n",
       " Document(metadata={'source': 'servicenow-docs.pdf', 'page': 24, 'page_label': '21'}, page_content='CHAPTER 9\\nMetrics\\n9.1 Metric from Assignment Group to Close\\nThis will require two metric deﬁnitions. One will track the assignment group ﬁeld and the other will track the state\\nﬁeld. When the assignment group is ﬁlled the metric begins and when the state turns to close, the metric will ﬁnd the\\nassignment group metric and end the duration.\\nMetric Deﬁnition\\nName : Assignment Group has been populated'),\n",
       " Document(metadata={'source': 'servicenow-docs.pdf', 'page': 24, 'page_label': '21'}, page_content='Type : Script calculation\\nif (!current.assignment_group.nil()) {\\ncreateMetric();\\n}\\nfunction createMetric() {\\nvar mi = new MetricInstance(definition, current);\\nif (mi.metricExists())\\nreturn;\\nvar gr = mi.getNewRecord();\\ngr.field_value = current.assignment_group;\\ngr.start = current.sys_updated_on;\\ngr.calculation_complete = false;\\ngr.insert();\\n}\\nMetric Deﬁnition'),\n",
       " Document(metadata={'source': 'servicenow-docs.pdf', 'page': 24, 'page_label': '21'}, page_content='gr.insert();\\n}\\nMetric Deﬁnition\\nName : Stop Assignment duration on close\\nType : Script calculation\\n21'),\n",
       " Document(metadata={'source': 'servicenow-docs.pdf', 'page': 25, 'page_label': '22'}, page_content=\"ServiceNow Documentation Documentation, Release 0.01\\n// Close Durations on Closed Complete, Closed Incomplete, or Cancelled\\nif (current.state == 3 || current.state == 4 || current.state == 7) {\\ncloseDurations(current);\\n}\\nfunction closeDurations(current) {\\nvar gr = new GlideRecord('metric_instance');\\ngr.addQuery('id', current.sys_id);\\ngr.addQuery('calculation_complete', false);\"),\n",
       " Document(metadata={'source': 'servicenow-docs.pdf', 'page': 25, 'page_label': '22'}, page_content=\"gr.addQuery('definition.name', 'Time to closure');\\ngr.query();\\nwhile (gr.next()) {\\nvar definition = new GlideRecord('metric_definition');\\ndefinition.get(gr.definition);\\nvar mi = new MetricInstance(definition, current);\\nmi.endDuration();\\n}\\n}\\nWarning: Both Metrics need to be placed as “Script calculation” or it will not process correctly\\n22 Chapter 9. Metrics\"),\n",
       " Document(metadata={'source': 'servicenow-docs.pdf', 'page': 26, 'page_label': '23'}, page_content='CHAPTER 10\\nModules\\n10.1 Open new window from module\\nThis will require two metric deﬁnitions. One will track the assignment group ﬁeld and the other will track the state\\nﬁeld. When the assignment group is ﬁlled the metric begins and when the state turns to close, the metric will ﬁnd the\\nassignment group metric and end the duration.\\nModule\\nLink Type : URL (from Arguments:)'),\n",
       " Document(metadata={'source': 'servicenow-docs.pdf', 'page': 26, 'page_label': '23'}, page_content=\"Module\\nLink Type : URL (from Arguments:)\\nIn the arguments ﬁeld use the following:\\njavascript:top.window.open('/sys_user_list.do', '_blank', 'height=700,width=1000\\n˓→');\\n23\"),\n",
       " Document(metadata={'source': 'servicenow-docs.pdf', 'page': 27, 'page_label': '24'}, page_content='ServiceNow Documentation Documentation, Release 0.01\\n24 Chapter 10. Modules'),\n",
       " Document(metadata={'source': 'servicenow-docs.pdf', 'page': 28, 'page_label': '25'}, page_content='CHAPTER 11\\nOAuth\\n11.1 Manual Oauth\\nOauth proﬁle needs to be ﬁrst set up on ServiceNow. After set up, code below can run Oauth for each REST call. This\\nis taken form a SalesForce Integration.\\nvar oAuthClient = new sn_auth.GlideOAuthClient();\\nvar params = {grant_type:\"password\", username: username, password: password};\\nvar json = new global.JSON();\\nvar text = json.encode(params);'),\n",
       " Document(metadata={'source': 'servicenow-docs.pdf', 'page': 28, 'page_label': '25'}, page_content='var text = json.encode(params);\\nvar tokenResponse = oAuthClient.requestToken(\"nameless-dev-ed.my.salesforce.com\",\\n˓→text);\\nvar token = tokenResponse.getToken();\\ngs.info(\"AccessToken:\" + token.getAccessToken());\\ngs.info(\"AccessTokenExpiresIn:\" + token.getExpiresIn());\\ngs.info(\" RefreshToken:\" + token.getRefreshToken());\\nvar response, responseBody, status;\\ntry {'),\n",
       " Document(metadata={'source': 'servicenow-docs.pdf', 'page': 28, 'page_label': '25'}, page_content='try {\\nvar restMessage = new sn_ws.RESTMessageV2();\\nrestMessage.setHttpMethod(\"get\");\\nrestMessage.setEndpoint(\"https://nameless-dev-ed.my.salesforce.com/services/data/\\n˓→v39.0/query/?q=SELECT+FirstName,+LastName,+Company,+MobilePhone+from+Lead\")\\nrestMessage.setRequestHeader(\"Authorization\", \"Bearer \" + token.getAccessToken());\\nresponse = restMessage.execute();'),\n",
       " Document(metadata={'source': 'servicenow-docs.pdf', 'page': 28, 'page_label': '25'}, page_content='response = restMessage.execute();\\nresponseBody = response.haveError() ? response.getErrorMessage() : response.\\n˓→getBody();\\nstatus = response.getStatusCode();\\n} catch(ex) {\\nresponseBody = ex;\\n25'),\n",
       " Document(metadata={'source': 'servicenow-docs.pdf', 'page': 29, 'page_label': '26'}, page_content='ServiceNow Documentation Documentation, Release 0.01\\nstatus = \\'500\\';\\n} finally {\\nrequestBody = restMessage ? restMessage.getRequestBody():null;\\n}\\ngs.info(\"Request Body: \" + requestBody);\\ngs.info(\"Response: \" + responseBody);\\ngs.info(\"HTTP Status: \" + status);\\n26 Chapter 11. OAuth'),\n",
       " Document(metadata={'source': 'servicenow-docs.pdf', 'page': 30, 'page_label': '27'}, page_content='CHAPTER 12\\nReference Qualiﬁers\\n12.1 Creating a Dynamic Qualiﬁer\\nI decided to create a catalog item to request a parking space. One feature I wanted was to only show parking spots\\ndepending on which type of spot you want to reserve (ie. VIP, Motorcycle, Normal).\\nTo accomplish that requirement, I decided to go with a dynamic qualiﬁer that changes depending on type selected.\\n12.1.1 The Script Include'),\n",
       " Document(metadata={'source': 'servicenow-docs.pdf', 'page': 30, 'page_label': '27'}, page_content='12.1.1 The Script Include\\nThis is probably up for debate, but I decided to keep the same object format for my script include using Class.create()\\nand .prototype.\\nScript Include Fields\\nName : parkingByParkingType\\nClient callable : True\\nvar parkingByParkingType = Class.create();\\nparkingByParkingType.prototype = {\\ninitialize: function() {\\n},\\ngetSpots: function() {\\nvar result = [];'),\n",
       " Document(metadata={'source': 'servicenow-docs.pdf', 'page': 30, 'page_label': '27'}, page_content='getSpots: function() {\\nvar result = [];\\nvar res = new GlideRecord(\"u_parking_spot\");\\nres.addQuery(\"u_assigned\", false);\\nres.addQuery(\"u_type\", current.variables.parking_type);\\nres.query();\\n27'),\n",
       " Document(metadata={'source': 'servicenow-docs.pdf', 'page': 31, 'page_label': '28'}, page_content=\"ServiceNow Documentation Documentation, Release 0.01\\nwhile ( res.next() ) {\\nresult.push(res.sys_id.toString());\\n}\\nvar au = new ArrayUtil();\\nreturn au.unique(result);\\n},\\ntype: 'parkingByParkingType'\\n};\\nThe function of interest is the .getSpots() function. It’s a basic query in the u_parking_spot table, but with a Dynamic\"),\n",
       " Document(metadata={'source': 'servicenow-docs.pdf', 'page': 31, 'page_label': '28'}, page_content='Query we have acccess to current which we can use to add to query. In this example we’re using the parking_type\\nvariable, which is a selection.\\n12.1.2 The Dyanmic Filter Option\\nRef: https://www.packtpub.com/mapt/book/Networking%20and%20Servers/9781782174219/02/ch02lvl1sec26/\\nScripting%20Reference%20Qualiﬁers\\n12.2 Qualiﬁer that uses multiple queries'),\n",
       " Document(metadata={'source': 'servicenow-docs.pdf', 'page': 31, 'page_label': '28'}, page_content=\"12.2 Qualiﬁer that uses multiple queries\\n//getUserGroupsAsArray(), just grabs all user's groups and puts them into an array\\nvar userGroups = getUserGroupsAsArray();\\n//---------------------------------------------------\\n//! Here each query checks to see if queried group\\n//! is in one of the userGroups array\\n//---------------------------------------------------\"),\n",
       " Document(metadata={'source': 'servicenow-docs.pdf', 'page': 31, 'page_label': '28'}, page_content='var portfolioGR = new GlideRecord(\"pm_portfolio\");\\nvar q = portfolioGR.addQuery(\"u_department.u_ppm_group\", \\'IN\\', userGroups);\\nq.addOrCondition(\\'u_department.parent.u_ppm_group\\', \\'IN\\', userGroups);\\nq.addOrCondition(\\'u_department.u_ppm_agency_intake_group\\', \\'IN\\', userGroups);\\nq.addOrCondition(\\'u_department.parent.u_ppm_agency_intake_group\\', \\'IN\\', userGroups);'),\n",
       " Document(metadata={'source': 'servicenow-docs.pdf', 'page': 31, 'page_label': '28'}, page_content=\"q.addOrCondition('u_department.u_customer_engagement_group', 'IN', userGroups);\\nq.addOrCondition('u_department.parent.u_customer_engagement_group', 'IN', userGroups);\\nportfolioGR.query();\\nvar portfolioArray = [];\\nwhile(portfolioGR.next()) {\\nportfolioArray.push(portfolioGR.sys_id.toString());\\n}\\n//unique() function takes out any duplicates\\nvar arrayUtil = new ArrayUtil();\"),\n",
       " Document(metadata={'source': 'servicenow-docs.pdf', 'page': 31, 'page_label': '28'}, page_content=\"var arrayUtil = new ArrayUtil();\\nvar cleanPortfolioArray = arrayUtil.unique(portfolioArray);\\nreturn 'sys_idIN' + cleanPortfolioArray;\\n28 Chapter 12. Reference Qualiﬁers\"),\n",
       " Document(metadata={'source': 'servicenow-docs.pdf', 'page': 32, 'page_label': '29'}, page_content='CHAPTER 13\\nRegEx\\n13.1 Replace with callback\\nRegex can be used for replacing a string, but if you want to use the string still or store it, you can use a callback\\nfunction\\nThe code below will ﬁnd a string, store it in a table, and replace it with the sys_id of the record\\nvar body = textWithURLs;\\nvar newBody = \"\";\\nvar trackGR = new GlideRecord(\"url_table\");'),\n",
       " Document(metadata={'source': 'servicenow-docs.pdf', 'page': 32, 'page_label': '29'}, page_content='//Here we see the \"url\" variable will hold each matched string\\n// {string} The return string of each replace will replace the matched string\\nvar newBody = body.replace(/href\\\\s*=\\\\s*[\"\\'][^\\'\"]*[\"\\']/ig, function\\n˓→createTracking(url) {\\ntrackGR = new GlideRecord(\"url_table\");\\ntrackGR.initialize();\\ntrackGR.u_email_message = current.sys_id.toString();\\nvar formattedUrl = url.toString().split(/[\"\\']/)[1];'),\n",
       " Document(metadata={'source': 'servicenow-docs.pdf', 'page': 32, 'page_label': '29'}, page_content='trackGR.u_url_link = formattedUrl;\\nvar trackID = trackGR.insert();\\nreturn \"href=\\'https://devXXXXX.service-now.com/nav_to.do?uri=url_table.do?sys_\\n˓→id=\" + trackID + \"\\'\";\\n});\\ntextWithURLs = newBody;\\n29'),\n",
       " Document(metadata={'source': 'servicenow-docs.pdf', 'page': 33, 'page_label': '30'}, page_content='ServiceNow Documentation Documentation, Release 0.01\\n13.2 Example 2: replace <<EMPLOYEE>>\\nvar parsedForm = htmlForm.replace(/&lt;&lt;EMPLOYEENAME&gt;&gt;|<<EMPLOYEENAME>>/ig,\\n˓→employeeGR.name);\\nparsedForm = parsedForm.replace(/&lt;&lt;EMPLOYEEFIRSTNAME&gt;&gt;|<\\n˓→<EMPLOYEEFIRSTNAME>>/ig, employeeGR.first_name);\\nparsedForm = parsedForm.replace(/&lt;&lt;DATE&gt;&gt;|<<DATE>>/ig, gs.nowDateTime().'),\n",
       " Document(metadata={'source': 'servicenow-docs.pdf', 'page': 33, 'page_label': '30'}, page_content='˓→split(\" \")[0]);\\n30 Chapter 13. RegEx'),\n",
       " Document(metadata={'source': 'servicenow-docs.pdf', 'page': 34, 'page_label': '31'}, page_content='CHAPTER 14\\nREST Message v2\\n14.1 External Cart Orders\\nThere’s three pieces I had to use to allow cart orders from an external source\\n1. Creating the staging table\\n2. Creating the business rule after insertion into the staging table\\n3. Setting up the REST Message\\n14.1.1 Create the Staging Table\\nI created a table and named it Cart Order (u_cart_order). This will hold four ﬁelds used for calling the'),\n",
       " Document(metadata={'source': 'servicenow-docs.pdf', 'page': 34, 'page_label': '31'}, page_content='Cart API to create an order, more on that later.\\nColumn Label Type Max length\\nReq_Id String 100\\nCatalog Item String 40\\nErrors String 500\\nVariables String 3000\\n14.1.2 Sending the REST Message\\nFrom within another ServiceNow Instance\\nThis can be run however you would want, but I’ve only tested this using a background script. I don’t see\\nwhy it would fail anywhere else.'),\n",
       " Document(metadata={'source': 'servicenow-docs.pdf', 'page': 34, 'page_label': '31'}, page_content=\"why it would fail anywhere else.\\nvar request = new sn_ws.RESTMessageV2();\\nrequest.setEndpoint('https://dev22614.service-now.com/api/now/table/u_cart_order');\\nrequest.setHttpMethod('POST');\\n31\"),\n",
       " Document(metadata={'source': 'servicenow-docs.pdf', 'page': 35, 'page_label': '32'}, page_content='ServiceNow Documentation Documentation, Release 0.01\\n//Eg. UserName=\"admin\", Password=\"admin\" for this code sample.\\nvar user = \\'admin\\';\\nvar password = \\'admin\\';\\nrequest.setBasicAuth(user,password);\\nrequest.setRequestHeader(\"Accept\",\"application/json\");\\nrequest.setRequestHeader(\\'Content-Type\\',\\'application/json\\');\\nrequest.setRequestBody(\\'{\"u_catalog_item\":\"Blackberry\",\\' +'),\n",
       " Document(metadata={'source': 'servicenow-docs.pdf', 'page': 35, 'page_label': '32'}, page_content='\\'\"u_variables\":\"original^299-999-9991|\\' +\\n\\'replacement^Yes\"}\\');\\nvar response = request.execute();\\ngs.log(response.getBody());\\nIn the requestbody there’s two key value’s to set up\\n• u_catalog_item Name of the catalog item should be the value\\n• u_variables The value should be a pipe | separated list of variables, with the name of the variable the value\\nseparted by a caret ^'),\n",
       " Document(metadata={'source': 'servicenow-docs.pdf', 'page': 35, 'page_label': '32'}, page_content='separted by a caret ^\\n14.1.3 Creating the Business Rule\\nWhen the REST message is sent, it will populate the Cart Order table that we had created above. What\\nwe want to do is create a BEFORE business rule to be called on INSERT so it can go into the Cart API\\nand make an order depending on what was sent in the REST call.\\n32 Chapter 14. REST Message v2'),\n",
       " Document(metadata={'source': 'servicenow-docs.pdf', 'page': 36, 'page_label': '33'}, page_content='CHAPTER 15\\nSending Attachments via REST\\n15.1 Overview\\nThis will allow a system to receive a base64 encoded string and set it to the attachment table\\n15.2 Staging Table\\nA table should be created that extends the Import Set Row table with the following added ﬁelds\\nColumn label Type Max length\\nattachment String 1,000,000\\nname String\\nticket number String 1,000\\n15.3 Create a Transform Map'),\n",
       " Document(metadata={'source': 'servicenow-docs.pdf', 'page': 36, 'page_label': '33'}, page_content='15.3 Create a Transform Map\\nName Source table Target table\\nAttachment Stage to Queue Attachment Staging Table ecc_queue\\n15.3.1 Field Maps\\nSource ﬁeld Target ﬁeld\\nu_attachment payload\\nu_name name\\nu_ticket_number source\\n[Script] agent\\n[Script] topic\\n33'),\n",
       " Document(metadata={'source': 'servicenow-docs.pdf', 'page': 37, 'page_label': '34'}, page_content='ServiceNow Documentation Documentation, Release 0.01\\nAgent Scripts\\nanswer = (function transformEntry(source) {\\n// Add your code here\\nreturn \"AttachmentCreator\"; // return the value to be put into the target\\n˓→field\\n})(source);\\nTopic Scripts\\nanswer = (function transformEntry(source) {\\n// Add your code here\\nreturn \"AttachmentCreator\"; // return the value to be put into the target\\n˓→field\\n})(source);'),\n",
       " Document(metadata={'source': 'servicenow-docs.pdf', 'page': 37, 'page_label': '34'}, page_content='˓→field\\n})(source);\\n15.4 Sending the REST Message\\nThe rest message should be sent with the ﬁelds below\\n{\\n\"u_name\":\"Something.jpg:image/jpeg\",\\n\"u_ticket_number\":\"incident:83bff1fddb2d220003ee793ebf961957\",\\n\"u_attachment\":\"e490qugijelkabvrohatge4\",\\n}\\n15.5 Example Business Rule Script for Attachment\\nvar target = new GlideRecord(\\'sys_attachment\\');\\ntarget.addQuery(\\'table_name\\', \\'incident\\');'),\n",
       " Document(metadata={'source': 'servicenow-docs.pdf', 'page': 37, 'page_label': '34'}, page_content=\"target.addQuery('table_sys_id', current.sys_id);\\ntarget.query();\\nwhile(target.next()) {\\nvar sa = new GlideSysAttachment();\\nvar binData = sa.getBytes(target);\\nvar base64Data = GlideStringUtil.base64Encode(binData);\\n//Send Attachments\\nvar requestAttachment = new sn_ws.RESTMessageV2();\\nrequestAttachment.setEndpoint('https://XXXXX.service-now.com/api/now/\\n˓→import/u_attachment_staging_table');\"),\n",
       " Document(metadata={'source': 'servicenow-docs.pdf', 'page': 37, 'page_label': '34'}, page_content='˓→import/u_attachment_staging_table\\');\\nrequestAttachment.setHttpMethod(\\'POST\\');\\nrequestAttachment.setBasicAuth(user,password);\\nrequestAttachment.setRequestHeader(\"Accept\",\"application/json\");\\nrequestAttachment.setRequestHeader(\\'Content-Type\\',\\'application/json\\');\\n34 Chapter 15. Sending Attachments via REST'),\n",
       " Document(metadata={'source': 'servicenow-docs.pdf', 'page': 38, 'page_label': '35'}, page_content='ServiceNow Documentation Documentation, Release 0.01\\nvar requestAttachmentJSONBody = createRequestBody(\"u_name\", target.file_\\n˓→name + \":\" + target.content_type);\\nrequestAttachmentJSONBody += addToRequestBody(\"u_ticket_number\", \\'incident:\\n˓→\\' + sysid);\\nrequestAttachmentJSONBody += addToRequestBody(\"u_attachment\", base64Data);\\nrequestAttachmentJSONBody += closeRequestBody();'),\n",
       " Document(metadata={'source': 'servicenow-docs.pdf', 'page': 38, 'page_label': '35'}, page_content='requestAttachment.setRequestBody(requestAttachmentJSONBody);\\nvar responseAttachment = requestAttachment.execute();\\n}\\nThe createRequestBody() functions are just used to create a JSON Object with for example {u_name:\\n“targetinfo”, u_ticket_number: “incident:39024903284”}\\n15.5. Example Business Rule Script for Attachment 35'),\n",
       " Document(metadata={'source': 'servicenow-docs.pdf', 'page': 39, 'page_label': '36'}, page_content='ServiceNow Documentation Documentation, Release 0.01\\n36 Chapter 15. Sending Attachments via REST'),\n",
       " Document(metadata={'source': 'servicenow-docs.pdf', 'page': 40, 'page_label': '37'}, page_content='CHAPTER 16\\nService Portal\\n16.1 Overview\\nThis will discuss using Angular and coding widgets to create a Service Portal with as much, if not more, features as\\nthe Content Management System\\n16.2 Understanding How Server Script Works\\nThe Flow of Data from Servi-\\nceNow Docs\\nThe Server Script on a widget is executed onLoad and can be used to transfer a data object from the server to the'),\n",
       " Document(metadata={'source': 'servicenow-docs.pdf', 'page': 40, 'page_label': '37'}, page_content='client. On the client, this data object is very important for ﬂeshing out your portal page.\\nLet’s say you want a widget of vip users and their picture. The server would send the data with that information and\\nthe client receives that data object and then displays it the way you desire.\\ndata.names = [];\\nvar userGR = new GlideRecord(\"sys_user\");\\nuserGR.addQuery(\"vip\", true);\\nuserGR.query();\\n37'),\n",
       " Document(metadata={'source': 'servicenow-docs.pdf', 'page': 41, 'page_label': '38'}, page_content='ServiceNow Documentation Documentation, Release 0.01\\nwhile (userGR.next()) {\\ndata.names.push(userGR.name.toString());\\n}\\nOnce the code reaches the bottom the data object will be sent. So now you have an array of VIP names that you can\\nuse.\\n16.2.1 The Client can send Data also\\nSo let’s say you want to give users the ability to change what kind of users they want to see. For example, the user'),\n",
       " Document(metadata={'source': 'servicenow-docs.pdf', 'page': 41, 'page_label': '38'}, page_content='chooses to query for, let’s say, all ITIL users.\\nOn the client side code, create an object literal called input and ﬁll in the information the server would need. For this\\nexample, we can send the string “itil” in the input object. Once we are ready we use server.update() to send the input\\nobject to the server.\\nvar c = this;\\nvar input = {};\\n$scope.onItilButtonClick = function() {'),\n",
       " Document(metadata={'source': 'servicenow-docs.pdf', 'page': 41, 'page_label': '38'}, page_content='$scope.onItilButtonClick = function() {\\ninput.button = \"itil\";\\nc.server.update();\\n}\\nAfter c.server.update();, the process then repeats sending whatever data object the server now has back to client, and\\nre-renders if anything changes.\\n16.2.2 Processing the input sent from client\\nThe server client script gets processed in whole after a c.server.update(), so to prevent the original query from being'),\n",
       " Document(metadata={'source': 'servicenow-docs.pdf', 'page': 41, 'page_label': '38'}, page_content='processed, we’ll have to wrap what we want in an if (input) {}statement. The only difference from the ﬁrst onLoad\\nand the runs from the client is the appearance of the input object.\\ndata.names = [];\\nif (input) {\\nvar userGR = new GlideRecord(\"sys_user\");\\nuserGR.addQuery(\\'roles=\\' + input.button);\\nuserGR.query();\\nwhile (userGR.next()) {\\ndata.names.push(userGR.name.toString());\\n}\\n} else {'),\n",
       " Document(metadata={'source': 'servicenow-docs.pdf', 'page': 41, 'page_label': '38'}, page_content='}\\n} else {\\nvar userGR = new GlideRecord(\"sys_user\");\\nuserGR.addQuery(\"vip\", true);\\nuserGR.query();\\nwhile (userGR.next()) {\\ndata.names.push(userGR.name.toString());\\n}\\n}\\n38 Chapter 16. Service Portal'),\n",
       " Document(metadata={'source': 'servicenow-docs.pdf', 'page': 42, 'page_label': '39'}, page_content='ServiceNow Documentation Documentation, Release 0.01\\nThe else statement here is defaulted to searching for vip. When an input is sent to the server it will start a new query\\nlooking for whatever role is in input.button.\\nCode that you want to run on both onLoad and when a client re-renders, just put them in the script normally. Such as\\nthe initialization of the data.names array on the ﬁrst line.'),\n",
       " Document(metadata={'source': 'servicenow-docs.pdf', 'page': 42, 'page_label': '39'}, page_content='Warning: Only data will get sent to the client from the server. If you want to send input back you must put it\\nback into the data object.\\nif (input) {\\ndata.foo = input.foo\\n}\\n16.2. Understanding How Server Script Works 39'),\n",
       " Document(metadata={'source': 'servicenow-docs.pdf', 'page': 43, 'page_label': '40'}, page_content='ServiceNow Documentation Documentation, Release 0.01\\n40 Chapter 16. Service Portal'),\n",
       " Document(metadata={'source': 'servicenow-docs.pdf', 'page': 44, 'page_label': '41'}, page_content='CHAPTER 17\\nSphinx Shortcuts\\n17.1 Sphinx codes\\n/*\\n.. code-block:: Javascript\\nvar someCode = \"some more code\"\\n.. warning::\\nSome warning block\\n*/\\n41'),\n",
       " Document(metadata={'source': 'servicenow-docs.pdf', 'page': 45, 'page_label': '42'}, page_content='ServiceNow Documentation Documentation, Release 0.01\\n42 Chapter 17. Sphinx Shortcuts'),\n",
       " Document(metadata={'source': 'servicenow-docs.pdf', 'page': 46, 'page_label': '43'}, page_content='CHAPTER 18\\nSyntax Editor\\n18.1 Location\\nSystem Deﬁnition > Syntax Editor Macros\\n43'),\n",
       " Document(metadata={'source': 'servicenow-docs.pdf', 'page': 47, 'page_label': '44'}, page_content='ServiceNow Documentation Documentation, Release 0.01\\n44 Chapter 18. Syntax Editor'),\n",
       " Document(metadata={'source': 'servicenow-docs.pdf', 'page': 48, 'page_label': '45'}, page_content='CHAPTER 19\\nTime Card Modiﬁcations\\n19.1 Generate Time Cards based on Resource Allocations\\nCurrently timecards are only generated for the table planned_task and only for the current week\\n19.1.1 Goal\\n• Generate timecards when the current user is assigned as a resource allocation\\n• Generate timecards for upcoming weeks (not just the current week)\\n19.1.2 Script Include'),\n",
       " Document(metadata={'source': 'servicenow-docs.pdf', 'page': 48, 'page_label': '45'}, page_content='19.1.2 Script Include\\nThe only script we need to edit is the TimeCardAjax script include. Since this is OOB, it’s best to\\ninsert-and-stay then mark the original as inactive.\\nThe only OOB function we will be editing is ajaxFunction_generateTaskCards(), the rest we will be\\ncreating ourselves.\\najaxFunction_generateTaskCards: function(){\\n//get request info\\nthis.weekStart = this._getWeekStart();'),\n",
       " Document(metadata={'source': 'servicenow-docs.pdf', 'page': 48, 'page_label': '45'}, page_content=\"this.weekStart = this._getWeekStart();\\nthis.user = this.getParameter('sysparm_user');\\nthis.weekEnd = this._getWeekEnd();\\nthis.newCards = []; //list of cards created\\nthis.existingCards = this._getExistingCards();\\nthis.plannedTasks = this._getPlannedTasks();\\nthis._generateMissingCards(this.plannedTasks);\\nthis._generateMissingCards(this.tasks);\\n//added two functions to be run for Resource Allocations\"),\n",
       " Document(metadata={'source': 'servicenow-docs.pdf', 'page': 48, 'page_label': '45'}, page_content='this.resourceAllocations = this._getResourceAllocations();\\nthis._generateMissingAllocations();\\n45'),\n",
       " Document(metadata={'source': 'servicenow-docs.pdf', 'page': 49, 'page_label': '46'}, page_content='ServiceNow Documentation Documentation, Release 0.01\\nthis._buildResult();\\n},\\nThis is the function that gets run initially, when TimecardAjax is called. What I added were two lines\\nbetween this._generateMissingCards(this.plannedTasks) and this._buildResult();.\\nBoth functions should be self explanatory. The ._getResourceAllocation() grabs all resource allocations'),\n",
       " Document(metadata={'source': 'servicenow-docs.pdf', 'page': 49, 'page_label': '46'}, page_content='for the user and ._generateMissingAllocations() will generate timecards if there are no timecards asso-\\nciated.\\n19.1.3 Unit Tests\\nvar alloc = new GlideRecord(\"resource_allocation\");\\nalloc.user = \"0ac0a7f7db20220003ee793ebf961970\";\\nvar date = new GlideDate();\\ndate.setValue(\\'2016-11-05\\');\\nalloc.start_date = date;\\nvar date2 = new GlideDate();\\ndate2.setValue(\\'2016-11-23\\');\\nalloc.end_date = date2;'),\n",
       " Document(metadata={'source': 'servicenow-docs.pdf', 'page': 49, 'page_label': '46'}, page_content='alloc.end_date = date2;\\nalloc.requested_hours = \"30\";\\nalloc.task = \"48b1d30ddb95a20003ee793ebf961942\"\\nalloc.resource_plan = \"e3bc5091db19a20003ee793ebf961943\"\\nvar test = alloc.insert();\\ngs.log(test);\\nvar newTask = new GlideRecord(\"cert_follow_on_task\");\\nnewTask.assigned_to = \"0ac0a7f7db20220003ee793ebf961970\";\\nnewTask.short_description = \"Unit Test 08171131\";\\nvar taskId = newTask.insert();'),\n",
       " Document(metadata={'source': 'servicenow-docs.pdf', 'page': 49, 'page_label': '46'}, page_content='var taskId = newTask.insert();\\ngs.log(\"taskID = \" + taskId);\\nvar newRP = new GlideRecord(\"resource_plan\");\\nnewRP.task = taskId;\\nnewRP.start_date = \"2015-01-01\";\\nnewRP.end_date = \"2019-01-01\";\\nnewRP.user_resource = \"0ac0a7f7db20220003ee793ebf961970\";\\nnewRP.resource_type = \"user\";\\nnewRP.planned_hours = 0;\\nvar resourceId = newRP.insert();\\ngs.log(\"resourceID = \" + resourceId);'),\n",
       " Document(metadata={'source': 'servicenow-docs.pdf', 'page': 49, 'page_label': '46'}, page_content='gs.log(\"resourceID = \" + resourceId);\\nvar alloc = new GlideRecord(\"resource_allocation\");\\nalloc.user = \"0ac0a7f7db20220003ee793ebf961970\";\\nvar date = new GlideDate();\\ndate.setValue(\\'2016-11-05\\');\\nalloc.start_date = date;\\nvar date2 = new GlideDate();\\ndate2.setValue(\\'2016-11-23\\');\\nalloc.end_date = date2;\\nalloc.requested_hours = \"30\";\\nalloc.task = taskId;\\nalloc.resource_plan = resourceId;'),\n",
       " Document(metadata={'source': 'servicenow-docs.pdf', 'page': 49, 'page_label': '46'}, page_content='alloc.resource_plan = resourceId;\\n46 Chapter 19. Time Card Modiﬁcations'),\n",
       " Document(metadata={'source': 'servicenow-docs.pdf', 'page': 50, 'page_label': '47'}, page_content='ServiceNow Documentation Documentation, Release 0.01\\nvar allocationId = alloc.insert();\\ngs.log(\"allocationdId = \" + allocationId);\\nvar alloc2 = new GlideRecord(\"resource_allocation\");\\nalloc2.user = \"0ac0a7f7db20220003ee793ebf961970\";\\nvar date = new GlideDate();\\ndate.setValue(\\'2016-11-16\\');\\nalloc2.start_date = date;\\nvar date2 = new GlideDate();\\ndate2.setValue(\\'2016-12-02\\');\\nalloc2.end_date = date2;'),\n",
       " Document(metadata={'source': 'servicenow-docs.pdf', 'page': 50, 'page_label': '47'}, page_content='alloc2.end_date = date2;\\nalloc2.requested_hours = \"30\";\\nalloc2.task = taskId;\\nalloc2.resource_plan = resourceId;\\nallocationId = alloc2.insert();\\ngs.log(\"allocationID2 = \" + allocationId);\\n19.1. Generate Time Cards based on Resource Allocations 47'),\n",
       " Document(metadata={'source': 'servicenow-docs.pdf', 'page': 51, 'page_label': '48'}, page_content='ServiceNow Documentation Documentation, Release 0.01\\n48 Chapter 19. Time Card Modiﬁcations'),\n",
       " Document(metadata={'source': 'servicenow-docs.pdf', 'page': 52, 'page_label': '49'}, page_content='CHAPTER 20\\nUI Pages\\n20.1 Triggering on change for select box\\nTo prevent using gel, we can pass in the current value of the select box usingthis.value\\n20.1.1 HTML\\n<g:evaluate>\\nvar choiceList = new GlideChoiceList();\\nchoiceList.add(\\'\\', \\'--None--\\');\\nchoiceList.add(\\'123\\', \\'OneTwoThree\\');\\nchoiceList.add(\\'FourFiveSix\\', \\'456\\');\\n</g:evaluate>\\n<select id=\"document_select\" name=\"document_select\" onchange='),\n",
       " Document(metadata={'source': 'servicenow-docs.pdf', 'page': 52, 'page_label': '49'}, page_content='˓→\"myFunction(this.value)\">\\n<g:options choiceList=\"${choiceList}\" choiceValue=\"\" />\\n</select>\\n20.1.2 Client Script\\nfunction myFunction(val) {\\nalert(val);\\n}\\n49'),\n",
       " Document(metadata={'source': 'servicenow-docs.pdf', 'page': 53, 'page_label': '50'}, page_content='ServiceNow Documentation Documentation, Release 0.01\\n20.2 Using a passed parameter in HTML ﬁeld\\n20.2.1 HTML\\n<g:evaluate var=\"jvar_document_array\"\\nexpression=\"RP.getWindowProperties().get(\\'sysparm_document_array\\')\" />\\n<script>\\nalert(\\'\"${jvar_document_array}\"\\');\\n</script>\\n20.3 Using a passed parameter in the Client ﬁeld\\n20.3.1 Client script\\nif (\"${sysparm_checked_out}\" == \"true\") {'),\n",
       " Document(metadata={'source': 'servicenow-docs.pdf', 'page': 53, 'page_label': '50'}, page_content='alert(\\'\"${sysparm_checked_out}\"\\');\\n}\\n50 Chapter 20. UI Pages'),\n",
       " Document(metadata={'source': 'servicenow-docs.pdf', 'page': 54, 'page_label': '51'}, page_content=\"CHAPTER 21\\nWorking With Variable Sets\\n21.1 Variable Iteration\\nThanks to Andrew Sainz for ﬁnding this\\nvar item = new GlideRecord('sc_req_item');\\nitem.addQuery('sys_id',current.sysapproval);\\nitem.query();\\nif(item.next()) {\\nfor (var key in item.variables) {\\nvar v = item.variables[key];\\nif (v != '' && !v.nil()) {\\ncurrent.u_approval_summary +=v.getGlideObject().getQuestion().getLabel() +\"),\n",
       " Document(metadata={'source': 'servicenow-docs.pdf', 'page': 54, 'page_label': '51'}, page_content='\\': \\' + v.getDisplayValue() + \"\\\\n\";\\n}\\n}\\n}\\n51'),\n",
       " Document(metadata={'source': 'servicenow-docs.pdf', 'page': 55, 'page_label': '52'}, page_content='ServiceNow Documentation Documentation, Release 0.01\\n52 Chapter 21. Working With Variable Sets'),\n",
       " Document(metadata={'source': 'servicenow-docs.pdf', 'page': 56, 'page_label': '53'}, page_content='CHAPTER 22\\nWorkﬂows\\n22.1 Canceling and Reopening Workﬂow\\nfunction server_cancel_business_case(){\\n//Cancels all approvals for Business Case and delete workflow\\nnew WorkflowApprovalUtils().cancelAll(current, \"Placed on hold by \" + gs.\\n˓→getUser().name);\\nnew Workflow().deleteWorkflow(current);\\ncurrent.u_ppm_bc_state = \\'closed_cancelled\\';\\ncurrent.update();\\naction.setRedirectURL(current);\\n}'),\n",
       " Document(metadata={'source': 'servicenow-docs.pdf', 'page': 56, 'page_label': '53'}, page_content='action.setRedirectURL(current);\\n}\\n//Cancels all approvals for Business Case and delete workflow\\nnew WorkflowApprovalUtils().cancelAll(current, \"Re-Opened by \" + gs.getUser());\\nnew Workflow().deleteWorkflow(current);\\n22.2 Sending in workﬂow values with StartFlow\\nUI Action / Business Rule\\nvar wf = new Workflow ( ); //Get the workflow id\\nvar wfId = wf. getWorkflowFromName ( \"Print Screen\" ) ;'),\n",
       " Document(metadata={'source': 'servicenow-docs.pdf', 'page': 56, 'page_label': '53'}, page_content='var vars = {};\\nvars.u_task_sys_id = current.sys_id.toString();\\nvars.variable2 = \"This is var2\";\\nwf. startFlow (wfId , current , \"Update\" , vars ) ;\\nWithin Workﬂow Script\\n53'),\n",
       " Document(metadata={'source': 'servicenow-docs.pdf', 'page': 57, 'page_label': '54'}, page_content='ServiceNow Documentation Documentation, Release 0.01\\nvar readValue = workflow.inputs.u_task_sys_id;\\n//workflow.variables_u_task_sys_id ... will also work\\nvar projectTaskGR = new GlideRecord(\"pm_project_task\");\\nprojectTaskGR.get(\"sys_id\", readValue);\\nprojectTaskGR.state = 3;\\nprojectTaskGR.update();\\n54 Chapter 22. Workﬂows'),\n",
       " Document(metadata={'source': 'servicenow-docs.pdf', 'page': 58, 'page_label': '55'}, page_content='CHAPTER 23\\nIndices and tables\\n• genindex\\n• modindex\\n• search\\n55')]"
      ]
     },
     "execution_count": 16,
     "metadata": {},
     "output_type": "execute_result"
    }
   ],
   "source": [
    "pdf_data"
   ]
  },
  {
   "cell_type": "markdown",
   "metadata": {},
   "source": [
    "# Calling LLM and data"
   ]
  },
  {
   "cell_type": "code",
   "execution_count": 17,
   "metadata": {},
   "outputs": [],
   "source": [
    "retriever = vectors.as_retriever(search_type=\"similarity\", search_kwargs={\"k\":6, \"include_metadata\":True, \"score_threshold\":0.9})\n",
    "chain = ConversationalRetrievalChain.from_llm(llm=ChatGoogleGenerativeAI(temperature=0.0,model='gemini-1.5-pro-002'), \n",
    "                                                retriever=retriever,return_source_documents=True,verbose=True,chain_type=\"stuff\",\n",
    "                                                max_tokens_limit=4097)"
   ]
  },
  {
   "cell_type": "code",
   "execution_count": 18,
   "metadata": {},
   "outputs": [
    {
     "name": "stdout",
     "output_type": "stream",
     "text": [
      "\n",
      "\n",
      "\u001b[1m> Entering new StuffDocumentsChain chain...\u001b[0m\n",
      "\n",
      "\n",
      "\u001b[1m> Entering new LLMChain chain...\u001b[0m\n",
      "Prompt after formatting:\n",
      "\u001b[32;1m\u001b[1;3mSystem: Use the following pieces of context to answer the user's question. \n",
      "If you don't know the answer, just say that you don't know, don't try to make up an answer.\n",
      "----------------\n",
      "CHAPTER 2\n",
      "CORS Error\n",
      "2.1 How to get around CORS Exception\n",
      "chrome.exe --user-data-dir=\"C:/Chrome dev session\" --disable-web-security\n",
      "Depending on location of Chrome, ﬁle can be run with single line below\n",
      "\"C:\\Program Files (x86)\\Google\\Chrome\\Application\\chrome.exe\" --user-data-dir=\"C:/\n",
      "˓→Chrome dev session\" --disable-web-security\n",
      "Warning: Goes without saying !! be careful of security\n",
      "5\n",
      "\n",
      "ServiceNow Documentation Documentation, Release 0.01\n",
      "6 Chapter 2. CORS Error\n",
      "\n",
      "why it would fail anywhere else.\n",
      "var request = new sn_ws.RESTMessageV2();\n",
      "request.setEndpoint('https://dev22614.service-now.com/api/now/table/u_cart_order');\n",
      "request.setHttpMethod('POST');\n",
      "31\n",
      "\n",
      "Contents\n",
      "1 Copying Data 3\n",
      "1.1 Worknotes . . . . . . . . . . . . . . . . . . . . . . . . . . . . . . . . . . . . . . . . . . . . . . . . 3\n",
      "1.2 Currency Fields . . . . . . . . . . . . . . . . . . . . . . . . . . . . . . . . . . . . . . . . . . . . . 3\n",
      "2 CORS Error 5\n",
      "2.1 How to get around CORS Exception . . . . . . . . . . . . . . . . . . . . . . . . . . . . . . . . . . . 5\n",
      "3 Date Time Servicenow 7\n",
      "\n",
      "'\"u_variables\":\"original^299-999-9991|' +\n",
      "'replacement^Yes\"}');\n",
      "var response = request.execute();\n",
      "gs.log(response.getBody());\n",
      "In the requestbody there’s two key value’s to set up\n",
      "• u_catalog_item Name of the catalog item should be the value\n",
      "• u_variables The value should be a pipe | separated list of variables, with the name of the variable the value\n",
      "separted by a caret ^\n",
      "\n",
      "chooses to query for, let’s say, all ITIL users.\n",
      "On the client side code, create an object literal called input and ﬁll in the information the server would need. For this\n",
      "example, we can send the string “itil” in the input object. Once we are ready we use server.update() to send the input\n",
      "object to the server.\n",
      "var c = this;\n",
      "var input = {};\n",
      "$scope.onItilButtonClick = function() {\n",
      "Human:  How to get around CORS Exception\u001b[0m\n",
      "\n",
      "\u001b[1m> Finished chain.\u001b[0m\n",
      "\n",
      "\u001b[1m> Finished chain.\u001b[0m\n"
     ]
    }
   ],
   "source": [
    "chat_history = []\n",
    "result = chain({\"system\": \n",
    "        \"You are a ServiceNow expert and answer based on the document provided. Be polite and provide answers based on the provided context only. Use only the provided data and not prior knowledge.\", \n",
    "                        \"question\": \" How to get around CORS Exception\",\n",
    "                        \"chat_history\":chat_history})"
   ]
  },
  {
   "cell_type": "code",
   "execution_count": 19,
   "metadata": {},
   "outputs": [
    {
     "data": {
      "text/plain": [
       "{'system': 'You are a ServiceNow expert and answer based on the document provided. Be polite and provide answers based on the provided context only. Use only the provided data and not prior knowledge.',\n",
       " 'question': ' How to get around CORS Exception',\n",
       " 'chat_history': [],\n",
       " 'answer': 'Run Chrome with the following flags:\\n\\n```\\nchrome.exe --user-data-dir=\"C:/Chrome dev session\" --disable-web-security \\n```\\n\\nOr, depending on the location of Chrome:\\n\\n```\\n\"C:\\\\Program Files (x86)\\\\Google\\\\Chrome\\\\Application\\\\chrome.exe\" --user-data-dir=\"C:/Chrome dev session\" --disable-web-security\\n```\\n\\n**Warning:** Be careful of security implications when disabling web security.',\n",
       " 'source_documents': [Document(id='f82f5b9f-8fda-4c62-9d6d-efd3b0012a37', metadata={'source': 'servicenow-docs.pdf', 'page': 8, 'page_label': '5'}, page_content='CHAPTER 2\\nCORS Error\\n2.1 How to get around CORS Exception\\nchrome.exe --user-data-dir=\"C:/Chrome dev session\" --disable-web-security\\nDepending on location of Chrome, ﬁle can be run with single line below\\n\"C:\\\\Program Files (x86)\\\\Google\\\\Chrome\\\\Application\\\\chrome.exe\" --user-data-dir=\"C:/\\n˓→Chrome dev session\" --disable-web-security\\nWarning: Goes without saying !! be careful of security\\n5'),\n",
       "  Document(id='10127c63-e964-409e-bc3c-7c6e0b13ab42', metadata={'source': 'servicenow-docs.pdf', 'page': 9, 'page_label': '6'}, page_content='ServiceNow Documentation Documentation, Release 0.01\\n6 Chapter 2. CORS Error'),\n",
       "  Document(id='aecf72c8-f222-43e5-b197-2b5129382704', metadata={'source': 'servicenow-docs.pdf', 'page': 34, 'page_label': '31'}, page_content=\"why it would fail anywhere else.\\nvar request = new sn_ws.RESTMessageV2();\\nrequest.setEndpoint('https://dev22614.service-now.com/api/now/table/u_cart_order');\\nrequest.setHttpMethod('POST');\\n31\"),\n",
       "  Document(id='5c6a26f6-90ee-4e82-855a-05c8ccc5db42', metadata={'source': 'servicenow-docs.pdf', 'page': 2, 'page_label': 'i'}, page_content='Contents\\n1 Copying Data 3\\n1.1 Worknotes . . . . . . . . . . . . . . . . . . . . . . . . . . . . . . . . . . . . . . . . . . . . . . . . 3\\n1.2 Currency Fields . . . . . . . . . . . . . . . . . . . . . . . . . . . . . . . . . . . . . . . . . . . . . 3\\n2 CORS Error 5\\n2.1 How to get around CORS Exception . . . . . . . . . . . . . . . . . . . . . . . . . . . . . . . . . . . 5\\n3 Date Time Servicenow 7'),\n",
       "  Document(id='7370fe2e-49fc-4699-bf65-98632198e7b0', metadata={'source': 'servicenow-docs.pdf', 'page': 35, 'page_label': '32'}, page_content='\\'\"u_variables\":\"original^299-999-9991|\\' +\\n\\'replacement^Yes\"}\\');\\nvar response = request.execute();\\ngs.log(response.getBody());\\nIn the requestbody there’s two key value’s to set up\\n• u_catalog_item Name of the catalog item should be the value\\n• u_variables The value should be a pipe | separated list of variables, with the name of the variable the value\\nseparted by a caret ^'),\n",
       "  Document(id='49bd452c-9f3c-4ec2-8ffd-7d23888e62e0', metadata={'source': 'servicenow-docs.pdf', 'page': 41, 'page_label': '38'}, page_content='chooses to query for, let’s say, all ITIL users.\\nOn the client side code, create an object literal called input and ﬁll in the information the server would need. For this\\nexample, we can send the string “itil” in the input object. Once we are ready we use server.update() to send the input\\nobject to the server.\\nvar c = this;\\nvar input = {};\\n$scope.onItilButtonClick = function() {')]}"
      ]
     },
     "execution_count": 19,
     "metadata": {},
     "output_type": "execute_result"
    }
   ],
   "source": [
    "result"
   ]
  },
  {
   "cell_type": "code",
   "execution_count": 20,
   "metadata": {},
   "outputs": [
    {
     "name": "stdout",
     "output_type": "stream",
     "text": [
      "Run Chrome with the following flags:\n",
      "\n",
      "```\n",
      "chrome.exe --user-data-dir=\"C:/Chrome dev session\" --disable-web-security \n",
      "```\n",
      "\n",
      "Or, depending on the location of Chrome:\n",
      "\n",
      "```\n",
      "\"C:\\Program Files (x86)\\Google\\Chrome\\Application\\chrome.exe\" --user-data-dir=\"C:/Chrome dev session\" --disable-web-security\n",
      "```\n",
      "\n",
      "**Warning:** Be careful of security implications when disabling web security.\n"
     ]
    }
   ],
   "source": [
    "print(result['answer'])"
   ]
  },
  {
   "cell_type": "code",
   "execution_count": 21,
   "metadata": {},
   "outputs": [
    {
     "name": "stdout",
     "output_type": "stream",
     "text": [
      "[Document(id='f82f5b9f-8fda-4c62-9d6d-efd3b0012a37', metadata={'source': 'servicenow-docs.pdf', 'page': 8, 'page_label': '5'}, page_content='CHAPTER 2\\nCORS Error\\n2.1 How to get around CORS Exception\\nchrome.exe --user-data-dir=\"C:/Chrome dev session\" --disable-web-security\\nDepending on location of Chrome, ﬁle can be run with single line below\\n\"C:\\\\Program Files (x86)\\\\Google\\\\Chrome\\\\Application\\\\chrome.exe\" --user-data-dir=\"C:/\\n˓→Chrome dev session\" --disable-web-security\\nWarning: Goes without saying !! be careful of security\\n5'), Document(id='10127c63-e964-409e-bc3c-7c6e0b13ab42', metadata={'source': 'servicenow-docs.pdf', 'page': 9, 'page_label': '6'}, page_content='ServiceNow Documentation Documentation, Release 0.01\\n6 Chapter 2. CORS Error'), Document(id='aecf72c8-f222-43e5-b197-2b5129382704', metadata={'source': 'servicenow-docs.pdf', 'page': 34, 'page_label': '31'}, page_content=\"why it would fail anywhere else.\\nvar request = new sn_ws.RESTMessageV2();\\nrequest.setEndpoint('https://dev22614.service-now.com/api/now/table/u_cart_order');\\nrequest.setHttpMethod('POST');\\n31\"), Document(id='5c6a26f6-90ee-4e82-855a-05c8ccc5db42', metadata={'source': 'servicenow-docs.pdf', 'page': 2, 'page_label': 'i'}, page_content='Contents\\n1 Copying Data 3\\n1.1 Worknotes . . . . . . . . . . . . . . . . . . . . . . . . . . . . . . . . . . . . . . . . . . . . . . . . 3\\n1.2 Currency Fields . . . . . . . . . . . . . . . . . . . . . . . . . . . . . . . . . . . . . . . . . . . . . 3\\n2 CORS Error 5\\n2.1 How to get around CORS Exception . . . . . . . . . . . . . . . . . . . . . . . . . . . . . . . . . . . 5\\n3 Date Time Servicenow 7'), Document(id='7370fe2e-49fc-4699-bf65-98632198e7b0', metadata={'source': 'servicenow-docs.pdf', 'page': 35, 'page_label': '32'}, page_content='\\'\"u_variables\":\"original^299-999-9991|\\' +\\n\\'replacement^Yes\"}\\');\\nvar response = request.execute();\\ngs.log(response.getBody());\\nIn the requestbody there’s two key value’s to set up\\n• u_catalog_item Name of the catalog item should be the value\\n• u_variables The value should be a pipe | separated list of variables, with the name of the variable the value\\nseparted by a caret ^'), Document(id='49bd452c-9f3c-4ec2-8ffd-7d23888e62e0', metadata={'source': 'servicenow-docs.pdf', 'page': 41, 'page_label': '38'}, page_content='chooses to query for, let’s say, all ITIL users.\\nOn the client side code, create an object literal called input and ﬁll in the information the server would need. For this\\nexample, we can send the string “itil” in the input object. Once we are ready we use server.update() to send the input\\nobject to the server.\\nvar c = this;\\nvar input = {};\\n$scope.onItilButtonClick = function() {')]\n"
     ]
    }
   ],
   "source": [
    "print(result['source_documents'])"
   ]
  },
  {
   "cell_type": "code",
   "execution_count": 22,
   "metadata": {},
   "outputs": [
    {
     "name": "stdout",
     "output_type": "stream",
     "text": [
      "page_content='CHAPTER 2\n",
      "CORS Error\n",
      "2.1 How to get around CORS Exception\n",
      "chrome.exe --user-data-dir=\"C:/Chrome dev session\" --disable-web-security\n",
      "Depending on location of Chrome, ﬁle can be run with single line below\n",
      "\"C:\\Program Files (x86)\\Google\\Chrome\\Application\\chrome.exe\" --user-data-dir=\"C:/\n",
      "˓→Chrome dev session\" --disable-web-security\n",
      "Warning: Goes without saying !! be careful of security\n",
      "5' metadata={'source': 'servicenow-docs.pdf', 'page': 8, 'page_label': '5'}\n"
     ]
    }
   ],
   "source": [
    "print(result['source_documents'][0])"
   ]
  },
  {
   "cell_type": "code",
   "execution_count": 14,
   "metadata": {},
   "outputs": [
    {
     "name": "stdout",
     "output_type": "stream",
     "text": [
      "page_content='CHAPTER 2\n",
      "CORS Error\n",
      "2.1 How to get around CORS Exception\n",
      "chrome.exe --user-data-dir=\"C:/Chrome dev session\" --disable-web-security\n",
      "Depending on location of Chrome, ﬁle can be run with single line below\n",
      "\"C:\\Program Files (x86)\\Google\\Chrome\\Application\\chrome.exe\" --user-data-dir=\"C:/\n",
      "˓→Chrome dev session\" --disable-web-security\n",
      "Warning: Goes without saying !! be careful of security\n",
      "5' metadata={'source': 'servicenow-docs.pdf', 'page': 8, 'page_label': '5'}\n",
      "-----\n",
      "page_content='ServiceNow Documentation Documentation, Release 0.01\n",
      "6 Chapter 2. CORS Error' metadata={'source': 'servicenow-docs.pdf', 'page': 9, 'page_label': '6'}\n",
      "-----\n",
      "page_content='why it would fail anywhere else.\n",
      "var request = new sn_ws.RESTMessageV2();\n",
      "request.setEndpoint('https://dev22614.service-now.com/api/now/table/u_cart_order');\n",
      "request.setHttpMethod('POST');\n",
      "31' metadata={'source': 'servicenow-docs.pdf', 'page': 34, 'page_label': '31'}\n",
      "-----\n",
      "page_content='Contents\n",
      "1 Copying Data 3\n",
      "1.1 Worknotes . . . . . . . . . . . . . . . . . . . . . . . . . . . . . . . . . . . . . . . . . . . . . . . . 3\n",
      "1.2 Currency Fields . . . . . . . . . . . . . . . . . . . . . . . . . . . . . . . . . . . . . . . . . . . . . 3\n",
      "2 CORS Error 5\n",
      "2.1 How to get around CORS Exception . . . . . . . . . . . . . . . . . . . . . . . . . . . . . . . . . . . 5\n",
      "3 Date Time Servicenow 7' metadata={'source': 'servicenow-docs.pdf', 'page': 2, 'page_label': 'i'}\n",
      "-----\n",
      "page_content=''\"u_variables\":\"original^299-999-9991|' +\n",
      "'replacement^Yes\"}');\n",
      "var response = request.execute();\n",
      "gs.log(response.getBody());\n",
      "In the requestbody there’s two key value’s to set up\n",
      "• u_catalog_item Name of the catalog item should be the value\n",
      "• u_variables The value should be a pipe | separated list of variables, with the name of the variable the value\n",
      "separted by a caret ^' metadata={'source': 'servicenow-docs.pdf', 'page': 35, 'page_label': '32'}\n",
      "-----\n",
      "page_content='chooses to query for, let’s say, all ITIL users.\n",
      "On the client side code, create an object literal called input and ﬁll in the information the server would need. For this\n",
      "example, we can send the string “itil” in the input object. Once we are ready we use server.update() to send the input\n",
      "object to the server.\n",
      "var c = this;\n",
      "var input = {};\n",
      "$scope.onItilButtonClick = function() {' metadata={'source': 'servicenow-docs.pdf', 'page': 41, 'page_label': '38'}\n",
      "-----\n"
     ]
    }
   ],
   "source": [
    "for i in result['source_documents']:\n",
    "    print(i)\n",
    "    print(\"-----\")"
   ]
  }
 ],
 "metadata": {
  "kernelspec": {
   "display_name": "Python 3",
   "language": "python",
   "name": "python3"
  },
  "language_info": {
   "codemirror_mode": {
    "name": "ipython",
    "version": 3
   },
   "file_extension": ".py",
   "mimetype": "text/x-python",
   "name": "python",
   "nbconvert_exporter": "python",
   "pygments_lexer": "ipython3",
   "version": "3.12.1"
  }
 },
 "nbformat": 4,
 "nbformat_minor": 2
}
