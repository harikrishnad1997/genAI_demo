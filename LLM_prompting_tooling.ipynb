{
 "cells": [
  {
   "cell_type": "markdown",
   "metadata": {},
   "source": [
    "# Install the required libraries"
   ]
  },
  {
   "cell_type": "code",
   "execution_count": 1,
   "metadata": {},
   "outputs": [
    {
     "name": "stdout",
     "output_type": "stream",
     "text": [
      "\n",
      "\u001b[1m[\u001b[0m\u001b[34;49mnotice\u001b[0m\u001b[1;39;49m]\u001b[0m\u001b[39;49m A new release of pip is available: \u001b[0m\u001b[31;49m24.3.1\u001b[0m\u001b[39;49m -> \u001b[0m\u001b[32;49m25.0\u001b[0m\n",
      "\u001b[1m[\u001b[0m\u001b[34;49mnotice\u001b[0m\u001b[1;39;49m]\u001b[0m\u001b[39;49m To update, run: \u001b[0m\u001b[32;49mpython3 -m pip install --upgrade pip\u001b[0m\n"
     ]
    }
   ],
   "source": [
    "!pip install google-generativeai --quiet"
   ]
  },
  {
   "cell_type": "markdown",
   "metadata": {},
   "source": [
    "# Configure the LLM for our use case\n",
    "\n",
    "Get a free Gemini API key using the following wesbite: https://aistudio.google.com/app/apikey and paste it in a txt file called `google_api_path.txt`."
   ]
  },
  {
   "cell_type": "code",
   "execution_count": 2,
   "metadata": {},
   "outputs": [],
   "source": [
    "import os\n",
    "import getpass\n",
    "google_api_path = 'google_api_path.txt'\n",
    "if \"GEMINI_API_KEY\" not in os.environ:\n",
    "    try:\n",
    "        with open(google_api_path, \"r\") as file:\n",
    "            api_key = file.read().strip()\n",
    "            os.environ['GEMINI_API_KEY'] = api_key\n",
    "    except:\n",
    "        os.environ[\"GEMINI_API_KEY\"] = getpass.getpass(\"Enter your Google AI API key: \")"
   ]
  },
  {
   "cell_type": "markdown",
   "metadata": {},
   "source": [
    "# Using LLM only"
   ]
  },
  {
   "cell_type": "code",
   "execution_count": 3,
   "metadata": {},
   "outputs": [
    {
     "name": "stderr",
     "output_type": "stream",
     "text": [
      "/usr/local/python/3.12.1/lib/python3.12/site-packages/tqdm/auto.py:21: TqdmWarning: IProgress not found. Please update jupyter and ipywidgets. See https://ipywidgets.readthedocs.io/en/stable/user_install.html\n",
      "  from .autonotebook import tqdm as notebook_tqdm\n"
     ]
    }
   ],
   "source": [
    "import google.generativeai as genai\n",
    "from google.ai.generativelanguage_v1beta.types import content\n",
    "\n",
    "genai.configure(api_key=os.environ[\"GEMINI_API_KEY\"])"
   ]
  },
  {
   "cell_type": "code",
   "execution_count": 4,
   "metadata": {},
   "outputs": [],
   "source": [
    "# Create the model\n",
    "generation_config = {\n",
    "  \"temperature\": 1,\n",
    "  \"top_p\": 0.95,\n",
    "  \"top_k\": 40,\n",
    "  \"max_output_tokens\": 8192,\n",
    "  \"response_mime_type\": \"text/plain\",\n",
    "}"
   ]
  },
  {
   "cell_type": "code",
   "execution_count": 5,
   "metadata": {},
   "outputs": [],
   "source": [
    "model = genai.GenerativeModel(\n",
    "  model_name=\"gemini-1.5-pro-002\",\n",
    "  generation_config=generation_config,\n",
    ")"
   ]
  },
  {
   "cell_type": "code",
   "execution_count": 6,
   "metadata": {},
   "outputs": [],
   "source": [
    "chat_session = model.start_chat()"
   ]
  },
  {
   "cell_type": "code",
   "execution_count": 7,
   "metadata": {},
   "outputs": [],
   "source": [
    "response = chat_session.send_message(\"Who is the president of the United States of America?\")"
   ]
  },
  {
   "cell_type": "code",
   "execution_count": 8,
   "metadata": {},
   "outputs": [
    {
     "name": "stdout",
     "output_type": "stream",
     "text": [
      "The current president of the United States of America is Joe Biden.\n",
      "\n"
     ]
    }
   ],
   "source": [
    "print(response.text)"
   ]
  },
  {
   "cell_type": "markdown",
   "metadata": {},
   "source": [
    "# Using a LLM and a tool\n",
    "\n",
    "In this case, our tool would be google search"
   ]
  },
  {
   "cell_type": "code",
   "execution_count": 9,
   "metadata": {},
   "outputs": [],
   "source": [
    "model = genai.GenerativeModel(\n",
    "  model_name=\"gemini-1.5-flash-8b\",\n",
    "  generation_config=generation_config,\n",
    "  tools = [\n",
    "    genai.protos.Tool(\n",
    "      google_search_retrieval = genai.protos.GoogleSearchRetrieval(\n",
    "        dynamic_retrieval_config = genai.protos.DynamicRetrievalConfig(\n",
    "          mode = genai.protos.DynamicRetrievalConfig.Mode.MODE_DYNAMIC,\n",
    "          dynamic_threshold = 0.3,\n",
    "        ),\n",
    "      ),\n",
    "    ),\n",
    "  ],\n",
    ")\n",
    "chat_session = model.start_chat()"
   ]
  },
  {
   "cell_type": "code",
   "execution_count": 10,
   "metadata": {},
   "outputs": [],
   "source": [
    "response = chat_session.send_message(\"Who is the president of United States of America?\")"
   ]
  },
  {
   "cell_type": "code",
   "execution_count": 11,
   "metadata": {},
   "outputs": [
    {
     "name": "stdout",
     "output_type": "stream",
     "text": [
      "Donald Trump is the president of the United States.  He assumed office on January 20, 2025.  Note that this information is current as of today's date, January 30, 2025.\n",
      "\n"
     ]
    }
   ],
   "source": [
    "print(response.text)"
   ]
  },
  {
   "cell_type": "code",
   "execution_count": 12,
   "metadata": {},
   "outputs": [
    {
     "data": {
      "text/plain": [
       "search_entry_point {\n",
       "  rendered_content: \"<style>\\n.container {\\n  align-items: center;\\n  border-radius: 8px;\\n  display: flex;\\n  font-family: Google Sans, Roboto, sans-serif;\\n  font-size: 14px;\\n  line-height: 20px;\\n  padding: 8px 12px;\\n}\\n.chip {\\n  display: inline-block;\\n  border: solid 1px;\\n  border-radius: 16px;\\n  min-width: 14px;\\n  padding: 5px 16px;\\n  text-align: center;\\n  user-select: none;\\n  margin: 0 8px;\\n  -webkit-tap-highlight-color: transparent;\\n}\\n.carousel {\\n  overflow: auto;\\n  scrollbar-width: none;\\n  white-space: nowrap;\\n  margin-right: -12px;\\n}\\n.headline {\\n  display: flex;\\n  margin-right: 4px;\\n}\\n.gradient-container {\\n  position: relative;\\n}\\n.gradient {\\n  position: absolute;\\n  transform: translate(3px, -9px);\\n  height: 36px;\\n  width: 9px;\\n}\\n@media (prefers-color-scheme: light) {\\n  .container {\\n    background-color: #fafafa;\\n    box-shadow: 0 0 0 1px #0000000f;\\n  }\\n  .headline-label {\\n    color: #1f1f1f;\\n  }\\n  .chip {\\n    background-color: #ffffff;\\n    border-color: #d2d2d2;\\n    color: #5e5e5e;\\n    text-decoration: none;\\n  }\\n  .chip:hover {\\n    background-color: #f2f2f2;\\n  }\\n  .chip:focus {\\n    background-color: #f2f2f2;\\n  }\\n  .chip:active {\\n    background-color: #d8d8d8;\\n    border-color: #b6b6b6;\\n  }\\n  .logo-dark {\\n    display: none;\\n  }\\n  .gradient {\\n    background: linear-gradient(90deg, #fafafa 15%, #fafafa00 100%);\\n  }\\n}\\n@media (prefers-color-scheme: dark) {\\n  .container {\\n    background-color: #1f1f1f;\\n    box-shadow: 0 0 0 1px #ffffff26;\\n  }\\n  .headline-label {\\n    color: #fff;\\n  }\\n  .chip {\\n    background-color: #2c2c2c;\\n    border-color: #3c4043;\\n    color: #fff;\\n    text-decoration: none;\\n  }\\n  .chip:hover {\\n    background-color: #353536;\\n  }\\n  .chip:focus {\\n    background-color: #353536;\\n  }\\n  .chip:active {\\n    background-color: #464849;\\n    border-color: #53575b;\\n  }\\n  .logo-light {\\n    display: none;\\n  }\\n  .gradient {\\n    background: linear-gradient(90deg, #1f1f1f 15%, #1f1f1f00 100%);\\n  }\\n}\\n</style>\\n<div class=\\\"container\\\">\\n  <div class=\\\"headline\\\">\\n    <svg class=\\\"logo-light\\\" width=\\\"18\\\" height=\\\"18\\\" viewBox=\\\"9 9 35 35\\\" fill=\\\"none\\\" xmlns=\\\"http://www.w3.org/2000/svg\\\">\\n      <path fill-rule=\\\"evenodd\\\" clip-rule=\\\"evenodd\\\" d=\\\"M42.8622 27.0064C42.8622 25.7839 42.7525 24.6084 42.5487 23.4799H26.3109V30.1568H35.5897C35.1821 32.3041 33.9596 34.1222 32.1258 35.3448V39.6864H37.7213C40.9814 36.677 42.8622 32.2571 42.8622 27.0064V27.0064Z\\\" fill=\\\"#4285F4\\\"/>\\n      <path fill-rule=\\\"evenodd\\\" clip-rule=\\\"evenodd\\\" d=\\\"M26.3109 43.8555C30.9659 43.8555 34.8687 42.3195 37.7213 39.6863L32.1258 35.3447C30.5898 36.3792 28.6306 37.0061 26.3109 37.0061C21.8282 37.0061 18.0195 33.9811 16.6559 29.906H10.9194V34.3573C13.7563 39.9841 19.5712 43.8555 26.3109 43.8555V43.8555Z\\\" fill=\\\"#34A853\\\"/>\\n      <path fill-rule=\\\"evenodd\\\" clip-rule=\\\"evenodd\\\" d=\\\"M16.6559 29.8904C16.3111 28.8559 16.1074 27.7588 16.1074 26.6146C16.1074 25.4704 16.3111 24.3733 16.6559 23.3388V18.8875H10.9194C9.74388 21.2072 9.06992 23.8247 9.06992 26.6146C9.06992 29.4045 9.74388 32.022 10.9194 34.3417L15.3864 30.8621L16.6559 29.8904V29.8904Z\\\" fill=\\\"#FBBC05\\\"/>\\n      <path fill-rule=\\\"evenodd\\\" clip-rule=\\\"evenodd\\\" d=\\\"M26.3109 16.2386C28.85 16.2386 31.107 17.1164 32.9095 18.8091L37.8466 13.8719C34.853 11.082 30.9659 9.3736 26.3109 9.3736C19.5712 9.3736 13.7563 13.245 10.9194 18.8875L16.6559 23.3388C18.0195 19.2636 21.8282 16.2386 26.3109 16.2386V16.2386Z\\\" fill=\\\"#EA4335\\\"/>\\n    </svg>\\n    <svg class=\\\"logo-dark\\\" width=\\\"18\\\" height=\\\"18\\\" viewBox=\\\"0 0 48 48\\\" xmlns=\\\"http://www.w3.org/2000/svg\\\">\\n      <circle cx=\\\"24\\\" cy=\\\"23\\\" fill=\\\"#FFF\\\" r=\\\"22\\\"/>\\n      <path d=\\\"M33.76 34.26c2.75-2.56 4.49-6.37 4.49-11.26 0-.89-.08-1.84-.29-3H24.01v5.99h8.03c-.4 2.02-1.5 3.56-3.07 4.56v.75l3.91 2.97h.88z\\\" fill=\\\"#4285F4\\\"/>\\n      <path d=\\\"M15.58 25.77A8.845 8.845 0 0 0 24 31.86c1.92 0 3.62-.46 4.97-1.31l4.79 3.71C31.14 36.7 27.65 38 24 38c-5.93 0-11.01-3.4-13.45-8.36l.17-1.01 4.06-2.85h.8z\\\" fill=\\\"#34A853\\\"/>\\n      <path d=\\\"M15.59 20.21a8.864 8.864 0 0 0 0 5.58l-5.03 3.86c-.98-2-1.53-4.25-1.53-6.64 0-2.39.55-4.64 1.53-6.64l1-.22 3.81 2.98.22 1.08z\\\" fill=\\\"#FBBC05\\\"/>\\n      <path d=\\\"M24 14.14c2.11 0 4.02.75 5.52 1.98l4.36-4.36C31.22 9.43 27.81 8 24 8c-5.93 0-11.01 3.4-13.45 8.36l5.03 3.85A8.86 8.86 0 0 1 24 14.14z\\\" fill=\\\"#EA4335\\\"/>\\n    </svg>\\n    <div class=\\\"gradient-container\\\"><div class=\\\"gradient\\\"></div></div>\\n  </div>\\n  <div class=\\\"carousel\\\">\\n    <a class=\\\"chip\\\" href=\\\"https://vertexaisearch.cloud.google.com/grounding-api-redirect/AUBnsYtxcXp_Q8DI-1MPfN93qGx3M5pXU5TVl0y328yYfv6Pq9FR08nJdFNNaTBR7hZA7mRl0usPXwjwxmEJz8RYeOVYnabk9ZcPPCkiEeHGfkVmmMfNlonvVs8MpkxGs_DN-DCbcAtiI0CNaTb9rDQZnQhPn9T618Bfevt861ChBI-RGogMi-yuJMLRa9QR2g5UnbpiRInt8La07-tJV-HoatcpLEl17aimJqngHT1wOA5wum2taQIB7CdM\\\">who is the president of the united states of america</a>\\n  </div>\\n</div>\\n\"\n",
       "}\n",
       "grounding_chunks {\n",
       "  web {\n",
       "    uri: \"https://vertexaisearch.cloud.google.com/grounding-api-redirect/AUBnsYuGJGQj60kSCxgaHgOJUCdRIHZoB-LA378s7IUfjnL1BdET22P97_qjjpHVDBx08W46FYA5hiA_lo9bX0xn66sVf5IDb35KGbYTU1_9RcmG0RQ9eULa6uyNFpCJU1sVKrdKg33wB3girEY7NE3e27pNTYAA59YUE3z1z6t3VFoDXQ==\"\n",
       "    title: \"wikipedia.org\"\n",
       "  }\n",
       "}\n",
       "grounding_chunks {\n",
       "  web {\n",
       "    uri: \"https://vertexaisearch.cloud.google.com/grounding-api-redirect/AUBnsYswS5IcIdScTXQQjY0SdJfIwesuEpRkOR4JeD7RyLZvdCRO7Q-cvJ6eKN2y-QURjNV_9Xywlh2bGy4fDHPw4VXt1hgoBaWDqPvL09Oc7hX6TWWhSptbk8c9Og==\"\n",
       "    title: \"usa.gov\"\n",
       "  }\n",
       "}\n",
       "grounding_chunks {\n",
       "  web {\n",
       "    uri: \"https://vertexaisearch.cloud.google.com/grounding-api-redirect/AUBnsYvzvTHqBmqysHZZJc2JZFuxynbiDIn7SvWYlpopGxCMsXK_PTjieyj1N809ND7J0BV5_uggEdLpqrIo9MTJlaxcGzMBH4JzIsMrlg8qKt9-CtIpNf5KfXMtAVgg0ivpWjVhx9EA3dYUsl0SKJtkrZDdERmHwyzEQ3mqEfTZgyS2JkSs-NLDWzoJpK234PjAW1wuerY2_t4vNOCzBZws8m_Pj5Y7\"\n",
       "    title: \"weforum.org\"\n",
       "  }\n",
       "}\n",
       "grounding_chunks {\n",
       "  web {\n",
       "    uri: \"https://vertexaisearch.cloud.google.com/grounding-api-redirect/AUBnsYs_HJ3OrgcNt2wP36kk1G6vI_Eppp2fAhr2EqDDy7luRsQbQqyvP5lZCyAbHbm14w7QIGvE-mMvq1yxe_pn6YZx89pVp6s8rLSZfDlLRbf1QYxpanijNBfQ8bcuobgTx8BRXaqX_hgRu3wtnAY6YRvKWpBg8BO66odtxg==\"\n",
       "    title: \"usembassy.gov\"\n",
       "  }\n",
       "}\n",
       "grounding_chunks {\n",
       "  web {\n",
       "    uri: \"https://vertexaisearch.cloud.google.com/grounding-api-redirect/AUBnsYt-GWVLmtkz34tKqskjgILJ6rmseANXO-CMx8gUZ7x0nhfhwzEe4SLR-LTAlfeyIcXjVIwWn8V_0eqjgdn14LUmkH_M08v--nGbZWZLBQWUsO4CExQwVw==\"\n",
       "    title: \"whitehouse.gov\"\n",
       "  }\n",
       "}\n",
       "grounding_supports {\n",
       "  segment {\n",
       "    end_index: 51\n",
       "    text: \"Donald Trump is the president of the United States.\"\n",
       "  }\n",
       "  grounding_chunk_indices: 0\n",
       "  grounding_chunk_indices: 1\n",
       "  grounding_chunk_indices: 2\n",
       "  grounding_chunk_indices: 3\n",
       "  grounding_chunk_indices: 4\n",
       "  confidence_scores: 0.974840522\n",
       "  confidence_scores: 0.993165195\n",
       "  confidence_scores: 0.991990268\n",
       "  confidence_scores: 0.986645699\n",
       "  confidence_scores: 0.987343907\n",
       "}\n",
       "grounding_supports {\n",
       "  segment {\n",
       "    start_index: 53\n",
       "    end_index: 91\n",
       "    text: \"He assumed office on January 20, 2025.\"\n",
       "  }\n",
       "  grounding_chunk_indices: 1\n",
       "  grounding_chunk_indices: 0\n",
       "  confidence_scores: 0.984716177\n",
       "  confidence_scores: 0.910809577\n",
       "}\n",
       "retrieval_metadata {\n",
       "  google_search_dynamic_retrieval_score: 0.647090256\n",
       "}\n",
       "web_search_queries: \"who is the president of the united states of america\""
      ]
     },
     "execution_count": 12,
     "metadata": {},
     "output_type": "execute_result"
    }
   ],
   "source": [
    "response.candidates[0].grounding_metadata"
   ]
  },
  {
   "cell_type": "markdown",
   "metadata": {},
   "source": [
    "# Using LLM, prompt engineering and tooling"
   ]
  },
  {
   "cell_type": "code",
   "execution_count": 13,
   "metadata": {},
   "outputs": [],
   "source": [
    "model = genai.GenerativeModel(\n",
    "  model_name=\"gemini-1.5-flash-8b\",\n",
    "  generation_config=generation_config,\n",
    "  system_instruction=\"You are a customer service agent for ServiceNow. Only answer questions about Customer Service and ServiceNow.\",\n",
    ")\n",
    "\n",
    "chat_session = model.start_chat(\n",
    "  history=[\n",
    "  ]\n",
    ")"
   ]
  },
  {
   "cell_type": "code",
   "execution_count": 14,
   "metadata": {},
   "outputs": [],
   "source": [
    "response = chat_session.send_message(\"Who is the president of the united states\")"
   ]
  },
  {
   "cell_type": "code",
   "execution_count": 15,
   "metadata": {},
   "outputs": [
    {
     "name": "stdout",
     "output_type": "stream",
     "text": [
      "I do not have access to that information.  I am a ServiceNow customer service agent and can only assist with questions about ServiceNow.\n",
      "\n"
     ]
    }
   ],
   "source": [
    "print(response.text)"
   ]
  },
  {
   "cell_type": "code",
   "execution_count": 16,
   "metadata": {},
   "outputs": [],
   "source": [
    "response = chat_session.send_message(\"How do I create an incident in ServiceNow?\")"
   ]
  },
  {
   "cell_type": "code",
   "execution_count": 17,
   "metadata": {},
   "outputs": [
    {
     "name": "stdout",
     "output_type": "stream",
     "text": [
      "There are several ways to create an incident in ServiceNow, depending on your access and the specific ServiceNow instance you're using.  Generally, you can:\n",
      "\n",
      "* **Use the Service Catalog:** If available, the Service Catalog often provides pre-defined incident templates.  You select the appropriate template and fill out the required information.\n",
      "\n",
      "* **Use the \"Incident\" table directly:**  This typically involves navigating to the \"Incident\" table (or a similar module) and clicking the \"New\" button.  You'll then be prompted to fill out the fields, which will vary depending on your instance's configuration.  Crucially, you will need to provide a clear and concise description of the problem.\n",
      "\n",
      "* **Use a mobile app:** ServiceNow offers mobile apps for creating incidents.  The method will be similar to using the website but tailored for mobile.\n",
      "\n",
      "\n",
      "To give you more specific instructions, please tell me:\n",
      "\n",
      "* **What kind of access do you have?** (e.g., employee, customer, specific role)\n",
      "* **Are you using a specific Service Catalog application?**\n",
      "* **Do you have any specific steps you've tried already that aren't working?**\n",
      "\n",
      "The more information you provide, the better I can assist you.\n",
      "\n"
     ]
    }
   ],
   "source": [
    "print(response.text)"
   ]
  }
 ],
 "metadata": {
  "kernelspec": {
   "display_name": "Python 3",
   "language": "python",
   "name": "python3"
  },
  "language_info": {
   "codemirror_mode": {
    "name": "ipython",
    "version": 3
   },
   "file_extension": ".py",
   "mimetype": "text/x-python",
   "name": "python",
   "nbconvert_exporter": "python",
   "pygments_lexer": "ipython3",
   "version": "3.12.1"
  }
 },
 "nbformat": 4,
 "nbformat_minor": 2
}
