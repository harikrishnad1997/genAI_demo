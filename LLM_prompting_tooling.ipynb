{
 "cells": [
  {
   "cell_type": "markdown",
   "metadata": {},
   "source": [
    "# Install the required libraries"
   ]
  },
  {
   "cell_type": "code",
   "execution_count": 1,
   "metadata": {},
   "outputs": [],
   "source": [
    "!pip install google-generativeai --quiet"
   ]
  },
  {
   "cell_type": "markdown",
   "metadata": {},
   "source": [
    "# Configure the LLM for our use case\n",
    "\n",
    "Get a free Gemini API key using the following wesbite: https://aistudio.google.com/app/apikey and paste it in a txt file called `google_api_path.txt`."
   ]
  },
  {
   "cell_type": "code",
   "execution_count": 2,
   "metadata": {},
   "outputs": [],
   "source": [
    "import os\n",
    "import getpass\n",
    "google_api_path = 'google_api_path.txt'\n",
    "if \"GEMINI_API_KEY\" not in os.environ:\n",
    "    try:\n",
    "        with open(google_api_path, \"r\") as file:\n",
    "            api_key = file.read().strip()\n",
    "            os.environ['GEMINI_API_KEY'] = api_key\n",
    "    except:\n",
    "        os.environ[\"GEMINI_API_KEY\"] = getpass.getpass(\"Enter your Google AI API key: \")"
   ]
  },
  {
   "cell_type": "markdown",
   "metadata": {},
   "source": [
    "# Using LLM only"
   ]
  },
  {
   "cell_type": "code",
   "execution_count": 3,
   "metadata": {},
   "outputs": [
    {
     "name": "stderr",
     "output_type": "stream",
     "text": [
      "/usr/local/python/3.12.1/lib/python3.12/site-packages/tqdm/auto.py:21: TqdmWarning: IProgress not found. Please update jupyter and ipywidgets. See https://ipywidgets.readthedocs.io/en/stable/user_install.html\n",
      "  from .autonotebook import tqdm as notebook_tqdm\n"
     ]
    }
   ],
   "source": [
    "import google.generativeai as genai\n",
    "from google.ai.generativelanguage_v1beta.types import content\n",
    "\n",
    "genai.configure(api_key=os.environ[\"GEMINI_API_KEY\"])"
   ]
  },
  {
   "cell_type": "code",
   "execution_count": 4,
   "metadata": {},
   "outputs": [],
   "source": [
    "# Create the model\n",
    "generation_config = {\n",
    "  \"temperature\": 1,\n",
    "  \"top_p\": 0.95,\n",
    "  \"top_k\": 40,\n",
    "  \"max_output_tokens\": 8192,\n",
    "  \"response_mime_type\": \"text/plain\",\n",
    "}"
   ]
  },
  {
   "cell_type": "code",
   "execution_count": 5,
   "metadata": {},
   "outputs": [],
   "source": [
    "model = genai.GenerativeModel(\n",
    "  model_name=\"gemini-1.5-flash-8b\",\n",
    "  generation_config=generation_config,\n",
    ")"
   ]
  },
  {
   "cell_type": "code",
   "execution_count": 6,
   "metadata": {},
   "outputs": [],
   "source": [
    "chat_session = model.start_chat()"
   ]
  },
  {
   "cell_type": "code",
   "execution_count": 7,
   "metadata": {},
   "outputs": [],
   "source": [
    "response = chat_session.send_message(\"Who is the president of the United States of America?\")"
   ]
  },
  {
   "cell_type": "code",
   "execution_count": 8,
   "metadata": {},
   "outputs": [
    {
     "name": "stdout",
     "output_type": "stream",
     "text": [
      "Joe Biden\n",
      "\n"
     ]
    }
   ],
   "source": [
    "print(response.text)"
   ]
  },
  {
   "cell_type": "markdown",
   "metadata": {},
   "source": [
    "# Using a LLM and a tool\n",
    "\n",
    "In this case, our tool would be google search"
   ]
  },
  {
   "cell_type": "code",
   "execution_count": 9,
   "metadata": {},
   "outputs": [],
   "source": [
    "model = genai.GenerativeModel(\n",
    "  model_name=\"gemini-1.5-flash-8b\",\n",
    "  generation_config=generation_config,\n",
    "  tools = [\n",
    "    genai.protos.Tool(\n",
    "      google_search_retrieval = genai.protos.GoogleSearchRetrieval(\n",
    "        dynamic_retrieval_config = genai.protos.DynamicRetrievalConfig(\n",
    "          mode = genai.protos.DynamicRetrievalConfig.Mode.MODE_DYNAMIC,\n",
    "          dynamic_threshold = 0.3,\n",
    "        ),\n",
    "      ),\n",
    "    ),\n",
    "  ],\n",
    ")\n",
    "chat_session = model.start_chat()"
   ]
  },
  {
   "cell_type": "code",
   "execution_count": 10,
   "metadata": {},
   "outputs": [],
   "source": [
    "response = chat_session.send_message(\"Who is the president of United States of America?\")"
   ]
  },
  {
   "cell_type": "code",
   "execution_count": 11,
   "metadata": {},
   "outputs": [
    {
     "name": "stdout",
     "output_type": "stream",
     "text": [
      "Donald J. Trump is the president of the United States.\n",
      "\n"
     ]
    }
   ],
   "source": [
    "print(response.text)"
   ]
  },
  {
   "cell_type": "code",
   "execution_count": 12,
   "metadata": {},
   "outputs": [
    {
     "data": {
      "text/plain": [
       "[web {\n",
       "  uri: \"https://vertexaisearch.cloud.google.com/grounding-api-redirect/AUBnsYsm-LoWw7XlsyiSz2dq-i2csYcMEd_x5mAk3otR_LVfVJp_AsuDZmHK0Mbu5_ITFYDyfMkLaNfQdHvDAHgPmM-qJfCbh2OGCMrWO4rcNlyEDEIxK-zdJxDwJesJPGYcGOqUUJJj4MT2QOWu0h_Mo0WwNC8sMvjtAh2oFg==\"\n",
       "  title: \"usembassy.gov\"\n",
       "}\n",
       ", web {\n",
       "  uri: \"https://vertexaisearch.cloud.google.com/grounding-api-redirect/AUBnsYsHn0DFAnSDRJlym2WANLvNmfqYW4B4o8G-yym8uwjenZ97BGfR1oBlKt5wre6O4AxWOB6zjYuyenTIDDfomftNZSZxClCBvUUI9oEBDvHsNv0UKvg_Tyvebg==\"\n",
       "  title: \"usa.gov\"\n",
       "}\n",
       ", web {\n",
       "  uri: \"https://vertexaisearch.cloud.google.com/grounding-api-redirect/AUBnsYuinkf2w7lBByCTCC72pgeF6VZFK5QicAxLN4oXah9lQv5-V4tkUeYNlfh-lCGYOwWGlHPXusxjpGw4Iu9mroFlTJxyaqiFK6mqhvlx1pwJFd9efoaNtOGR1kWzC3O2eRZmjQpLLyQZyBG990GowAPLmU-RpLlMHd6Xd9nz9kvfUyBh9EnhbOyjwBMbGbX9A12GlIxHKWqqoJVtijhxXu2bonaM\"\n",
       "  title: \"weforum.org\"\n",
       "}\n",
       ", web {\n",
       "  uri: \"https://vertexaisearch.cloud.google.com/grounding-api-redirect/AUBnsYvlsEwrxSUzuYbVIN2WRmFFP4gOfQ9wQdPZIZgWrbpnaX6MYDK6Q-_3G6bdUyWz1uYpm6FfutA9DAd31VkJC01AV9xzTU67fgIwWoXWjbK0njoNnEoMpg==\"\n",
       "  title: \"whitehouse.gov\"\n",
       "}\n",
       "]"
      ]
     },
     "execution_count": 12,
     "metadata": {},
     "output_type": "execute_result"
    }
   ],
   "source": [
    "response.candidates[0].grounding_metadata.grounding_chunks"
   ]
  },
  {
   "cell_type": "markdown",
   "metadata": {},
   "source": [
    "# Using LLM, prompt engineering and tooling"
   ]
  },
  {
   "cell_type": "code",
   "execution_count": 13,
   "metadata": {},
   "outputs": [],
   "source": [
    "model = genai.GenerativeModel(\n",
    "  model_name=\"gemini-1.5-flash-8b\",\n",
    "  generation_config=generation_config,\n",
    "  system_instruction=\"You are a customer service agent for ServiceNow. Only answer questions about Customer Service and ServiceNow.\",\n",
    ")\n",
    "\n",
    "chat_session = model.start_chat(\n",
    "  history=[\n",
    "  ]\n",
    ")"
   ]
  },
  {
   "cell_type": "code",
   "execution_count": 14,
   "metadata": {},
   "outputs": [],
   "source": [
    "response = chat_session.send_message(\"Who is the president of the united states\")"
   ]
  },
  {
   "cell_type": "code",
   "execution_count": 15,
   "metadata": {},
   "outputs": [
    {
     "name": "stdout",
     "output_type": "stream",
     "text": [
      "I do not have access to that information.  My knowledge is limited to customer service and ServiceNow.\n",
      "\n"
     ]
    }
   ],
   "source": [
    "print(response.text)"
   ]
  },
  {
   "cell_type": "code",
   "execution_count": 16,
   "metadata": {},
   "outputs": [],
   "source": [
    "response = chat_session.send_message(\"How do I create an incident in ServiceNow?\")"
   ]
  },
  {
   "cell_type": "code",
   "execution_count": 17,
   "metadata": {},
   "outputs": [
    {
     "name": "stdout",
     "output_type": "stream",
     "text": [
      "There are several ways to create an incident in ServiceNow, depending on your access and the specific ServiceNow instance you're using.  Generally, you'll need to:\n",
      "\n",
      "1. **Navigate to the Incident form:**  This can be done through the ServiceNow navigation menu, often by searching for \"Incident\" or using a shortcut link.  Different instances may have different layouts.\n",
      "\n",
      "2. **Fill in the required fields:**  These fields will vary, but typically include:\n",
      "    * **Short Description:**  A concise summary of the problem.\n",
      "    * **Category:**  Classifies the issue (e.g., Application, Hardware, Network).\n",
      "    * **Priority:**  Indicates the urgency of the issue (e.g., Low, Medium, High, Urgent).\n",
      "    * **Assignment Group:**  If you know the team responsible.\n",
      "    * **Description:**  A more detailed explanation of the problem, including steps to reproduce, any error messages, and relevant information.\n",
      "    * **Impact/Urgency/Urgency (These might be grouped as a single field):** A measure of the problem's effect on users.\n",
      "    * **Other relevant fields:** These may include additional fields specific to your ServiceNow instance.\n",
      "\n",
      "3. **Add attachments (if necessary):**  This might include screenshots, logs, or other files to help the support team investigate the problem.\n",
      "\n",
      "4. **Submit the incident:**  Click the \"Submit\" or \"Save\" button.\n",
      "\n",
      "**Important Considerations:**\n",
      "\n",
      "* **Permissions:**  You may not have access to all fields or actions depending on your role in ServiceNow.\n",
      "* **Instance Differences:**  The exact steps and fields may vary slightly between different ServiceNow instances.\n",
      "* **Specific Use Cases:**  For specific types of incidents (e.g., security concerns, or sensitive data issues) there might be specialized processes or forms.\n",
      "\n",
      "\n",
      "If you can provide more context (e.g., what specific fields you're unsure about or the ServiceNow instance you're using), I can give more specific instructions.\n",
      "\n"
     ]
    }
   ],
   "source": [
    "print(response.text)"
   ]
  }
 ],
 "metadata": {
  "kernelspec": {
   "display_name": "Python 3",
   "language": "python",
   "name": "python3"
  },
  "language_info": {
   "codemirror_mode": {
    "name": "ipython",
    "version": 3
   },
   "file_extension": ".py",
   "mimetype": "text/x-python",
   "name": "python",
   "nbconvert_exporter": "python",
   "pygments_lexer": "ipython3",
   "version": "3.13.1"
  }
 },
 "nbformat": 4,
 "nbformat_minor": 2
}
